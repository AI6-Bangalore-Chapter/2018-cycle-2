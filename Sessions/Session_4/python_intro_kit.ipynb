{
  "nbformat": 4,
  "nbformat_minor": 0,
  "metadata": {
    "colab": {
      "name": "python-intro-kit.ipynb",
      "version": "0.3.2",
      "provenance": [],
      "include_colab_link": true
    },
    "kernelspec": {
      "name": "python3",
      "display_name": "Python 3"
    }
  },
  "cells": [
    {
      "cell_type": "markdown",
      "metadata": {
        "id": "view-in-github",
        "colab_type": "text"
      },
      "source": [
        "[View in Colaboratory](https://colab.research.google.com/github/Sharwon/fastai-intro-kit/blob/master/python_intro_kit.ipynb)"
      ]
    },
    {
      "metadata": {
        "id": "Nncuo3GZF_U-",
        "colab_type": "text"
      },
      "cell_type": "markdown",
      "source": [
        "# Jupyter Notebook - Tips\n",
        "\n",
        "[Link tips and tricks](https://medium.com/deep-learning-turkey/google-colab-free-gpu-tutorial-e113627b9f5d)"
      ]
    },
    {
      "metadata": {
        "id": "iTREJkd09rpr",
        "colab_type": "code",
        "colab": {}
      },
      "cell_type": "code",
      "source": [
        "#importing a library\n",
        "import numpy as np"
      ],
      "execution_count": 0,
      "outputs": []
    },
    {
      "metadata": {
        "id": "U-0SvRQCCham",
        "colab_type": "code",
        "colab": {}
      },
      "cell_type": "code",
      "source": [
        "# press tab at the end of the code below, after uncommenting it.\n",
        "# np. \n",
        "# sometime google colab dosent respond :P"
      ],
      "execution_count": 0,
      "outputs": []
    },
    {
      "metadata": {
        "id": "bLM72mcYCm5S",
        "colab_type": "code",
        "colab": {}
      },
      "cell_type": "code",
      "source": [
        "# press double-tab in the fucntion argument space, after uncommenting it.\n",
        "#np.ones()"
      ],
      "execution_count": 0,
      "outputs": []
    },
    {
      "metadata": {
        "id": "VBe6hX6ADM5v",
        "colab_type": "code",
        "colab": {}
      },
      "cell_type": "code",
      "source": [
        "# the detials will open in a custom window\n",
        "??np.eye"
      ],
      "execution_count": 0,
      "outputs": []
    },
    {
      "metadata": {
        "id": "SAIQxXYMEJ-T",
        "colab_type": "code",
        "colab": {
          "base_uri": "https://localhost:8080/",
          "height": 51
        },
        "outputId": "55e2b723-a748-4fe5-f7c7-8c3c2bbce8d7"
      },
      "cell_type": "code",
      "source": [
        "# %time to get the execution time for a cell.\n",
        "%time x = np.random.randn(3,2)"
      ],
      "execution_count": 10,
      "outputs": [
        {
          "output_type": "stream",
          "text": [
            "CPU times: user 127 µs, sys: 110 µs, total: 237 µs\n",
            "Wall time: 247 µs\n"
          ],
          "name": "stdout"
        }
      ]
    },
    {
      "metadata": {
        "id": "5nuGqQqFKR8K",
        "colab_type": "text"
      },
      "cell_type": "markdown",
      "source": [
        "# Python Fundamentals\n",
        "\n",
        "[Comprehensive Tutorial link](http://cs231n.github.io/python-numpy-tutorial/) "
      ]
    },
    {
      "metadata": {
        "id": "LZE1Na0pFbTp",
        "colab_type": "code",
        "colab": {
          "base_uri": "https://localhost:8080/",
          "height": 34
        },
        "outputId": "ba33c654-c164-4a1b-a862-4760e50d7bf3"
      },
      "cell_type": "code",
      "source": [
        "#simple cell execution\n",
        "3 + 5"
      ],
      "execution_count": 11,
      "outputs": [
        {
          "output_type": "execute_result",
          "data": {
            "text/plain": [
              "8"
            ]
          },
          "metadata": {
            "tags": []
          },
          "execution_count": 11
        }
      ]
    },
    {
      "metadata": {
        "id": "BTtODZ-WLZj8",
        "colab_type": "code",
        "colab": {
          "base_uri": "https://localhost:8080/",
          "height": 34
        },
        "outputId": "082d57d2-8e38-46fa-bcce-a875c924c8e1"
      },
      "cell_type": "code",
      "source": [
        "numbers = [1,  2,  3,  4,  5]\n",
        "type(numbers)"
      ],
      "execution_count": 34,
      "outputs": [
        {
          "output_type": "execute_result",
          "data": {
            "text/plain": [
              "list"
            ]
          },
          "metadata": {
            "tags": []
          },
          "execution_count": 34
        }
      ]
    },
    {
      "metadata": {
        "id": "j3CPMVawLiM9",
        "colab_type": "code",
        "colab": {
          "base_uri": "https://localhost:8080/",
          "height": 34
        },
        "outputId": "6256f158-1364-4646-98bd-6b81211afab7"
      },
      "cell_type": "code",
      "source": [
        "# loop\n",
        "N = []\n",
        "for n in numbers:\n",
        "    if n%2 == 1:\n",
        "        N.append(n**2)\n",
        "        \n",
        "print(N)"
      ],
      "execution_count": 35,
      "outputs": [
        {
          "output_type": "stream",
          "text": [
            "[1, 9, 25]\n"
          ],
          "name": "stdout"
        }
      ]
    },
    {
      "metadata": {
        "id": "_ZDWPDolOrrA",
        "colab_type": "code",
        "colab": {
          "base_uri": "https://localhost:8080/",
          "height": 34
        },
        "outputId": "c873a0a0-56c4-4d0b-ec33-5904c5901c5e"
      },
      "cell_type": "code",
      "source": [
        "# functions\n",
        "def odd_mul(num):\n",
        "  temp = []\n",
        "  for i in num:\n",
        "    if i%2 == 1:\n",
        "      temp.append(i**2)\n",
        "  return temp\n",
        "\n",
        "print(odd_mul(numbers))"
      ],
      "execution_count": 36,
      "outputs": [
        {
          "output_type": "stream",
          "text": [
            "[1, 9, 25]\n"
          ],
          "name": "stdout"
        }
      ]
    },
    {
      "metadata": {
        "id": "4WqYeekiLjNV",
        "colab_type": "text"
      },
      "cell_type": "markdown",
      "source": [
        "### List, Dictionary Comprehensions"
      ]
    },
    {
      "metadata": {
        "id": "iIct7GTnLLqQ",
        "colab_type": "code",
        "colab": {
          "base_uri": "https://localhost:8080/",
          "height": 34
        },
        "outputId": "b096aa49-9b2a-4b88-8021-e2f49a990aba"
      },
      "cell_type": "code",
      "source": [
        "[], {}, () # list, dictionary, tuple. Python takes tuple as default input."
      ],
      "execution_count": 37,
      "outputs": [
        {
          "output_type": "execute_result",
          "data": {
            "text/plain": [
              "([], {}, ())"
            ]
          },
          "metadata": {
            "tags": []
          },
          "execution_count": 37
        }
      ]
    },
    {
      "metadata": {
        "id": "VDtOadXPL5d7",
        "colab_type": "text"
      },
      "cell_type": "markdown",
      "source": [
        "\n",
        "List comprehenssion minimizes the code below\n",
        "\n",
        "\n",
        "```\n",
        "for n in numbers:\n",
        "    if n%2 == 1:\n",
        "        n.append(n**2)\n",
        "```\n",
        "\n",
        "\n"
      ]
    },
    {
      "metadata": {
        "id": "01EQPTYNLwdJ",
        "colab_type": "code",
        "colab": {
          "base_uri": "https://localhost:8080/",
          "height": 34
        },
        "outputId": "78470076-0a38-48f2-de8e-fb302a0498af"
      },
      "cell_type": "code",
      "source": [
        "#conditional list comprehension\n",
        "doubled_odds = [n ** 2 for n in numbers if n % 2 == 1]\n",
        "doubled_odds"
      ],
      "execution_count": 42,
      "outputs": [
        {
          "output_type": "execute_result",
          "data": {
            "text/plain": [
              "[1, 9, 25]"
            ]
          },
          "metadata": {
            "tags": []
          },
          "execution_count": 42
        }
      ]
    },
    {
      "metadata": {
        "id": "qvPllo-uNcFv",
        "colab_type": "code",
        "colab": {
          "base_uri": "https://localhost:8080/",
          "height": 34
        },
        "outputId": "a6cebc92-3c82-4ee8-c761-4d548d190435"
      },
      "cell_type": "code",
      "source": [
        "#dictionay comprehenssion\n",
        "word = \"fastAI\"\n",
        "dictionary = {i:w for i,w in enumerate(word)}\n",
        "dictionary"
      ],
      "execution_count": 39,
      "outputs": [
        {
          "output_type": "execute_result",
          "data": {
            "text/plain": [
              "{0: 'f', 1: 'a', 2: 's', 3: 't', 4: 'A', 5: 'I'}"
            ]
          },
          "metadata": {
            "tags": []
          },
          "execution_count": 39
        }
      ]
    },
    {
      "metadata": {
        "id": "yv04rylPOHQq",
        "colab_type": "text"
      },
      "cell_type": "markdown",
      "source": [
        "### Lambda Functions"
      ]
    },
    {
      "metadata": {
        "id": "5R85q8GLOE1U",
        "colab_type": "code",
        "colab": {
          "base_uri": "https://localhost:8080/",
          "height": 34
        },
        "outputId": "f9d2023f-ac9e-478a-f1c2-7589daa6c3fa"
      },
      "cell_type": "code",
      "source": [
        "# f(x,y) = x + y\n",
        "function_anony = lambda x, y : x + y\n",
        "print(function_anony(1,2)) # first printed line."
      ],
      "execution_count": 40,
      "outputs": [
        {
          "output_type": "stream",
          "text": [
            "3\n"
          ],
          "name": "stdout"
        }
      ]
    },
    {
      "metadata": {
        "id": "ot9Piz2APph7",
        "colab_type": "code",
        "colab": {
          "base_uri": "https://localhost:8080/",
          "height": 34
        },
        "outputId": "ee76b51d-42cf-4ca0-c3e4-b9db14769ad7"
      },
      "cell_type": "code",
      "source": [
        "# Filter out even numbers to lf1 \n",
        "lf1 = filter(lambda x: x % 2 == 0, numbers)\n",
        "print(list(lf1))"
      ],
      "execution_count": 41,
      "outputs": [
        {
          "output_type": "stream",
          "text": [
            "[2, 4]\n"
          ],
          "name": "stdout"
        }
      ]
    },
    {
      "metadata": {
        "id": "oVJLtzg2SoOc",
        "colab_type": "text"
      },
      "cell_type": "markdown",
      "source": [
        "## Matplotlib"
      ]
    },
    {
      "metadata": {
        "id": "TIeXm8efSsbE",
        "colab_type": "code",
        "colab": {}
      },
      "cell_type": "code",
      "source": [
        "#images within th notebook\n",
        "%matplotlib inline"
      ],
      "execution_count": 0,
      "outputs": []
    },
    {
      "metadata": {
        "id": "BMHPxx_mSsl5",
        "colab_type": "code",
        "colab": {}
      },
      "cell_type": "code",
      "source": [
        "import matplotlib.pyplot as plt"
      ],
      "execution_count": 0,
      "outputs": []
    },
    {
      "metadata": {
        "id": "TUr8NKzYS7_A",
        "colab_type": "code",
        "colab": {
          "base_uri": "https://localhost:8080/",
          "height": 269
        },
        "outputId": "ebad0eb1-16d5-4875-806d-acf45d886845"
      },
      "cell_type": "code",
      "source": [
        "fig = plt.figure()  # a new figure window\n",
        "ax = fig.add_subplot(1, 1, 1)  # specify (nrows, ncols, axnum)"
      ],
      "execution_count": 52,
      "outputs": [
        {
          "output_type": "display_data",
          "data": {
            "image/png": "[encoded data removed]",
            "text/plain": [
              "<matplotlib.figure.Figure at 0x7f1148c34358>"
            ]
          },
          "metadata": {
            "tags": []
          }
        }
      ]
    },
    {
      "metadata": {
        "id": "e7hpqbCbS8JV",
        "colab_type": "code",
        "colab": {
          "base_uri": "https://localhost:8080/",
          "height": 265
        },
        "outputId": "6070326a-603e-4411-a667-cc08856d6b02"
      },
      "cell_type": "code",
      "source": [
        "x = np.linspace(-10, 10, 100)\n",
        "y = np.tanh(x)\n",
        "\n",
        "ax.plot(x, y)\n",
        "display(fig)"
      ],
      "execution_count": 53,
      "outputs": [
        {
          "output_type": "display_data",
          "data": {
            "image/png": "[encoded data removed]",
            "text/plain": [
              "<matplotlib.figure.Figure at 0x7f1148c34358>"
            ]
          },
          "metadata": {
            "tags": []
          }
        }
      ]
    },
    {
      "metadata": {
        "id": "JEMLjd58Tvt0",
        "colab_type": "code",
        "colab": {
          "base_uri": "https://localhost:8080/",
          "height": 265
        },
        "outputId": "a1ff87e8-4519-46f8-b437-5ac08c573b18"
      },
      "cell_type": "code",
      "source": [
        "y2 = np.sin(x)\n",
        "ax.plot(x, y2, 'r')\n",
        "\n",
        "display(fig)"
      ],
      "execution_count": 54,
      "outputs": [
        {
          "output_type": "display_data",
          "data": {
            "image/png": "[encoded data removed]",
            "text/plain": [
              "<matplotlib.figure.Figure at 0x7f1148c34358>"
            ]
          },
          "metadata": {
            "tags": []
          }
        }
      ]
    },
    {
      "metadata": {
        "id": "irvvoF4sR0Fa",
        "colab_type": "text"
      },
      "cell_type": "markdown",
      "source": [
        "## Classes\n",
        "\n",
        "Class objects support two kinds of operations: attribute references and instantiation.  \n",
        "Attribute references use the standard syntax used for all attribute references in Python: `obj.name`  \n",
        "Class instantiation uses function notation  "
      ]
    },
    {
      "metadata": {
        "id": "ubrIbTBPQf59",
        "colab_type": "code",
        "colab": {}
      },
      "cell_type": "code",
      "source": [
        "class SimpleNeuron():\n",
        "  def __init__(self,data1, data2):\n",
        "    self.weight = data1\n",
        "    self.bias = data2\n",
        "  # method is a function declared inside a class, here its get_data().\n",
        "  def get_weight(self):\n",
        "    print (self.weight)"
      ],
      "execution_count": 0,
      "outputs": []
    },
    {
      "metadata": {
        "id": "yeIXaOiMSnrf",
        "colab_type": "code",
        "colab": {
          "base_uri": "https://localhost:8080/",
          "height": 51
        },
        "outputId": "0051532b-5b82-4a2b-c723-f3f92c5da3cb"
      },
      "cell_type": "code",
      "source": [
        "s = SimpleNeuron(100, 2) # instantiation\n",
        "print(s) # object location\n",
        "s.weight # attribute reference"
      ],
      "execution_count": 77,
      "outputs": [
        {
          "output_type": "stream",
          "text": [
            "<__main__.SimpleNeuron object at 0x7f1148c8ef60>\n"
          ],
          "name": "stdout"
        },
        {
          "output_type": "execute_result",
          "data": {
            "text/plain": [
              "100"
            ]
          },
          "metadata": {
            "tags": []
          },
          "execution_count": 77
        }
      ]
    },
    {
      "metadata": {
        "id": "T-33rtq2Srhx",
        "colab_type": "code",
        "colab": {}
      },
      "cell_type": "code",
      "source": [
        "# CLASS METHOD\n",
        "class SimpleNeuron():\n",
        "  bias = 0.1 #default\n",
        "  def __init__(self,w, b):\n",
        "    self.weight = w\n",
        "    self.bias = b\n",
        "  # method is a function declared inside a class, here its get_data().\n",
        "  def get_weight(self):\n",
        "    print (self.weight)\n",
        "    \n",
        "  @classmethod\n",
        "  def get_bias(cls):\n",
        "    print(cls.bias)"
      ],
      "execution_count": 0,
      "outputs": []
    },
    {
      "metadata": {
        "id": "yk3scl3USrtb",
        "colab_type": "code",
        "colab": {
          "base_uri": "https://localhost:8080/",
          "height": 34
        },
        "outputId": "842b02ab-fef6-433e-e8de-90b852c51244"
      },
      "cell_type": "code",
      "source": [
        "SimpleNeuron.get_bias() # bound to class, not instance."
      ],
      "execution_count": 80,
      "outputs": [
        {
          "output_type": "stream",
          "text": [
            "0.1\n"
          ],
          "name": "stdout"
        }
      ]
    },
    {
      "metadata": {
        "id": "-3FjILxVc5OO",
        "colab_type": "code",
        "colab": {}
      },
      "cell_type": "code",
      "source": [
        "# STATIC METHOD\n",
        "class SimpleNeuron():\n",
        "  bias = 0.1 #default\n",
        "  def __init__(self,w, b):\n",
        "    self.weight = w\n",
        "    self.bias = b\n",
        "  # method is a function declared inside a class, here its get_data().\n",
        "  def get_weight(self):\n",
        "    print (self.weight)\n",
        "    \n",
        "  @classmethod\n",
        "  def get_bias(cls):\n",
        "    print(cls.bias)\n",
        "    \n",
        "  @staticmethod\n",
        "  def linearproduct(x, w,  y):\n",
        "    return (x*w + y)"
      ],
      "execution_count": 0,
      "outputs": []
    },
    {
      "metadata": {
        "id": "b4ICH5EjdrRU",
        "colab_type": "code",
        "colab": {
          "base_uri": "https://localhost:8080/",
          "height": 34
        },
        "outputId": "848c47e2-cb7a-4b15-fbe1-32de2729d61e"
      },
      "cell_type": "code",
      "source": [
        "SimpleNeuron.linearproduct(3, 4, 2) # result 3*4 + 2, this dosent depend on the class or object"
      ],
      "execution_count": 89,
      "outputs": [
        {
          "output_type": "execute_result",
          "data": {
            "text/plain": [
              "14"
            ]
          },
          "metadata": {
            "tags": []
          },
          "execution_count": 89
        }
      ]
    },
    {
      "metadata": {
        "id": "0-RMIyAkdxih",
        "colab_type": "code",
        "colab": {
          "base_uri": "https://localhost:8080/",
          "height": 714
        },
        "outputId": "357dbb93-348e-4550-e02d-a7482a10aaf0"
      },
      "cell_type": "code",
      "source": [
        "# INHERITANCE - SUPER FN.\n",
        "\n",
        "# main class\n",
        "class SimpleNeuron():\n",
        "  bias = 0.1 #default\n",
        "  def __init__(self,w, b):\n",
        "    self.weight = w\n",
        "    self.bias = b\n",
        "  # method is a function declared inside a class, here its get_data().\n",
        "  def get_weight(self):\n",
        "    print (self.weight)\n",
        "    \n",
        "  @classmethod\n",
        "  def get_bias(cls):\n",
        "    print(cls.bias)\n",
        "    \n",
        "  @staticmethod\n",
        "  def linearproduct(x, w,  y):\n",
        "    return (x*w + y)\n",
        "  \n",
        "# sub class, inherits form SimpleNeuron\n",
        "class NeuronLayer(SimpleNeuron):\n",
        "  pass\n",
        "\n",
        "print(help(NeuronLayer))  # The inherited methods are shown"
      ],
      "execution_count": 87,
      "outputs": [
        {
          "output_type": "stream",
          "text": [
            "Help on class NeuronLayer in module __main__:\n",
            "\n",
            "class NeuronLayer(SimpleNeuron)\n",
            " |  Method resolution order:\n",
            " |      NeuronLayer\n",
            " |      SimpleNeuron\n",
            " |      builtins.object\n",
            " |  \n",
            " |  Methods inherited from SimpleNeuron:\n",
            " |  \n",
            " |  __init__(self, w, b)\n",
            " |      Initialize self.  See help(type(self)) for accurate signature.\n",
            " |  \n",
            " |  get_weight(self)\n",
            " |      # method is a function declared inside a class, here its get_data().\n",
            " |  \n",
            " |  ----------------------------------------------------------------------\n",
            " |  Class methods inherited from SimpleNeuron:\n",
            " |  \n",
            " |  get_bias() from builtins.type\n",
            " |  \n",
            " |  ----------------------------------------------------------------------\n",
            " |  Static methods inherited from SimpleNeuron:\n",
            " |  \n",
            " |  linearproduct(x, w, y)\n",
            " |  \n",
            " |  ----------------------------------------------------------------------\n",
            " |  Data descriptors inherited from SimpleNeuron:\n",
            " |  \n",
            " |  __dict__\n",
            " |      dictionary for instance variables (if defined)\n",
            " |  \n",
            " |  __weakref__\n",
            " |      list of weak references to the object (if defined)\n",
            " |  \n",
            " |  ----------------------------------------------------------------------\n",
            " |  Data and other attributes inherited from SimpleNeuron:\n",
            " |  \n",
            " |  bias = 0.1\n",
            "\n",
            "None\n"
          ],
          "name": "stdout"
        }
      ]
    },
    {
      "metadata": {
        "id": "Q3NOMoV7fbqh",
        "colab_type": "code",
        "colab": {
          "base_uri": "https://localhost:8080/",
          "height": 51
        },
        "outputId": "e476fb2e-5ff1-415f-e22f-ef50c766a3ae"
      },
      "cell_type": "code",
      "source": [
        "# Why? .....to add extra features on top, like activation.\n",
        "\n",
        "class NeuronLayer(SimpleNeuron):\n",
        "  default_activ = 'relu'\n",
        "  def __init__(self,w, b, acti): #notice that we dont initialize the w,b\n",
        "    super(NeuronLayer, self).__init__(w, b)\n",
        "    self.activation = acti\n",
        "    \n",
        "    \n",
        "    \n",
        "first_layer = NeuronLayer(10, 2, 'relu') \n",
        "second_layer = NeuronLayer(20, 2, 'sigmoid')\n",
        "print(first_layer.weight) \n",
        "print(second_layer.activation)"
      ],
      "execution_count": 96,
      "outputs": [
        {
          "output_type": "stream",
          "text": [
            "10\n",
            "sigmoid\n"
          ],
          "name": "stdout"
        }
      ]
    }
  ]
}