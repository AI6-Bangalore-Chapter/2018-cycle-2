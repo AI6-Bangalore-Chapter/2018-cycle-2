{
 "cells": [
  {
   "cell_type": "markdown",
   "metadata": {},
   "source": [
    "### Run some Python code!\n",
    "\n",
    "To run the code below:\n",
    "\n",
    "1. Click on the cell to select it.\n",
    "2. Press `SHIFT+ENTER` on your keyboard or press the play button (<button class='fa fa-play icon-play btn btn-xs btn-default'></button>) in the toolbar above.\n",
    "\n",
    "A full tutorial for using the notebook interface is available [here](ipython_examples/Notebook/Index.ipynb)."
   ]
  },
  {
   "cell_type": "code",
   "execution_count": 1,
   "metadata": {},
   "outputs": [
    {
     "data": {
      "application/javascript": [
       "/* Put everything inside the global mpl namespace */\n",
       "window.mpl = {};\n",
       "\n",
       "\n",
       "mpl.get_websocket_type = function() {\n",
       "    if (typeof(WebSocket) !== 'undefined') {\n",
       "        return WebSocket;\n",
       "    } else if (typeof(MozWebSocket) !== 'undefined') {\n",
       "        return MozWebSocket;\n",
       "    } else {\n",
       "        alert('Your browser does not have WebSocket support.' +\n",
       "              'Please try Chrome, Safari or Firefox ≥ 6. ' +\n",
       "              'Firefox 4 and 5 are also supported but you ' +\n",
       "              'have to enable WebSockets in about:config.');\n",
       "    };\n",
       "}\n",
       "\n",
       "mpl.figure = function(figure_id, websocket, ondownload, parent_element) {\n",
       "    this.id = figure_id;\n",
       "\n",
       "    this.ws = websocket;\n",
       "\n",
       "    this.supports_binary = (this.ws.binaryType != undefined);\n",
       "\n",
       "    if (!this.supports_binary) {\n",
       "        var warnings = document.getElementById(\"mpl-warnings\");\n",
       "        if (warnings) {\n",
       "            warnings.style.display = 'block';\n",
       "            warnings.textContent = (\n",
       "                \"This browser does not support binary websocket messages. \" +\n",
       "                    \"Performance may be slow.\");\n",
       "        }\n",
       "    }\n",
       "\n",
       "    this.imageObj = new Image();\n",
       "\n",
       "    this.context = undefined;\n",
       "    this.message = undefined;\n",
       "    this.canvas = undefined;\n",
       "    this.rubberband_canvas = undefined;\n",
       "    this.rubberband_context = undefined;\n",
       "    this.format_dropdown = undefined;\n",
       "\n",
       "    this.image_mode = 'full';\n",
       "\n",
       "    this.root = $('<div/>');\n",
       "    this._root_extra_style(this.root)\n",
       "    this.root.attr('style', 'display: inline-block');\n",
       "\n",
       "    $(parent_element).append(this.root);\n",
       "\n",
       "    this._init_header(this);\n",
       "    this._init_canvas(this);\n",
       "    this._init_toolbar(this);\n",
       "\n",
       "    var fig = this;\n",
       "\n",
       "    this.waiting = false;\n",
       "\n",
       "    this.ws.onopen =  function () {\n",
       "            fig.send_message(\"supports_binary\", {value: fig.supports_binary});\n",
       "            fig.send_message(\"send_image_mode\", {});\n",
       "            if (mpl.ratio != 1) {\n",
       "                fig.send_message(\"set_dpi_ratio\", {'dpi_ratio': mpl.ratio});\n",
       "            }\n",
       "            fig.send_message(\"refresh\", {});\n",
       "        }\n",
       "\n",
       "    this.imageObj.onload = function() {\n",
       "            if (fig.image_mode == 'full') {\n",
       "                // Full images could contain transparency (where diff images\n",
       "                // almost always do), so we need to clear the canvas so that\n",
       "                // there is no ghosting.\n",
       "                fig.context.clearRect(0, 0, fig.canvas.width, fig.canvas.height);\n",
       "            }\n",
       "            fig.context.drawImage(fig.imageObj, 0, 0);\n",
       "        };\n",
       "\n",
       "    this.imageObj.onunload = function() {\n",
       "        this.ws.close();\n",
       "    }\n",
       "\n",
       "    this.ws.onmessage = this._make_on_message_function(this);\n",
       "\n",
       "    this.ondownload = ondownload;\n",
       "}\n",
       "\n",
       "mpl.figure.prototype._init_header = function() {\n",
       "    var titlebar = $(\n",
       "        '<div class=\"ui-dialog-titlebar ui-widget-header ui-corner-all ' +\n",
       "        'ui-helper-clearfix\"/>');\n",
       "    var titletext = $(\n",
       "        '<div class=\"ui-dialog-title\" style=\"width: 100%; ' +\n",
       "        'text-align: center; padding: 3px;\"/>');\n",
       "    titlebar.append(titletext)\n",
       "    this.root.append(titlebar);\n",
       "    this.header = titletext[0];\n",
       "}\n",
       "\n",
       "\n",
       "\n",
       "mpl.figure.prototype._canvas_extra_style = function(canvas_div) {\n",
       "\n",
       "}\n",
       "\n",
       "\n",
       "mpl.figure.prototype._root_extra_style = function(canvas_div) {\n",
       "\n",
       "}\n",
       "\n",
       "mpl.figure.prototype._init_canvas = function() {\n",
       "    var fig = this;\n",
       "\n",
       "    var canvas_div = $('<div/>');\n",
       "\n",
       "    canvas_div.attr('style', 'position: relative; clear: both; outline: 0');\n",
       "\n",
       "    function canvas_keyboard_event(event) {\n",
       "        return fig.key_event(event, event['data']);\n",
       "    }\n",
       "\n",
       "    canvas_div.keydown('key_press', canvas_keyboard_event);\n",
       "    canvas_div.keyup('key_release', canvas_keyboard_event);\n",
       "    this.canvas_div = canvas_div\n",
       "    this._canvas_extra_style(canvas_div)\n",
       "    this.root.append(canvas_div);\n",
       "\n",
       "    var canvas = $('<canvas/>');\n",
       "    canvas.addClass('mpl-canvas');\n",
       "    canvas.attr('style', \"left: 0; top: 0; z-index: 0; outline: 0\")\n",
       "\n",
       "    this.canvas = canvas[0];\n",
       "    this.context = canvas[0].getContext(\"2d\");\n",
       "\n",
       "    var backingStore = this.context.backingStorePixelRatio ||\n",
       "\tthis.context.webkitBackingStorePixelRatio ||\n",
       "\tthis.context.mozBackingStorePixelRatio ||\n",
       "\tthis.context.msBackingStorePixelRatio ||\n",
       "\tthis.context.oBackingStorePixelRatio ||\n",
       "\tthis.context.backingStorePixelRatio || 1;\n",
       "\n",
       "    mpl.ratio = (window.devicePixelRatio || 1) / backingStore;\n",
       "\n",
       "    var rubberband = $('<canvas/>');\n",
       "    rubberband.attr('style', \"position: absolute; left: 0; top: 0; z-index: 1;\")\n",
       "\n",
       "    var pass_mouse_events = true;\n",
       "\n",
       "    canvas_div.resizable({\n",
       "        start: function(event, ui) {\n",
       "            pass_mouse_events = false;\n",
       "        },\n",
       "        resize: function(event, ui) {\n",
       "            fig.request_resize(ui.size.width, ui.size.height);\n",
       "        },\n",
       "        stop: function(event, ui) {\n",
       "            pass_mouse_events = true;\n",
       "            fig.request_resize(ui.size.width, ui.size.height);\n",
       "        },\n",
       "    });\n",
       "\n",
       "    function mouse_event_fn(event) {\n",
       "        if (pass_mouse_events)\n",
       "            return fig.mouse_event(event, event['data']);\n",
       "    }\n",
       "\n",
       "    rubberband.mousedown('button_press', mouse_event_fn);\n",
       "    rubberband.mouseup('button_release', mouse_event_fn);\n",
       "    // Throttle sequential mouse events to 1 every 20ms.\n",
       "    rubberband.mousemove('motion_notify', mouse_event_fn);\n",
       "\n",
       "    rubberband.mouseenter('figure_enter', mouse_event_fn);\n",
       "    rubberband.mouseleave('figure_leave', mouse_event_fn);\n",
       "\n",
       "    canvas_div.on(\"wheel\", function (event) {\n",
       "        event = event.originalEvent;\n",
       "        event['data'] = 'scroll'\n",
       "        if (event.deltaY < 0) {\n",
       "            event.step = 1;\n",
       "        } else {\n",
       "            event.step = -1;\n",
       "        }\n",
       "        mouse_event_fn(event);\n",
       "    });\n",
       "\n",
       "    canvas_div.append(canvas);\n",
       "    canvas_div.append(rubberband);\n",
       "\n",
       "    this.rubberband = rubberband;\n",
       "    this.rubberband_canvas = rubberband[0];\n",
       "    this.rubberband_context = rubberband[0].getContext(\"2d\");\n",
       "    this.rubberband_context.strokeStyle = \"#000000\";\n",
       "\n",
       "    this._resize_canvas = function(width, height) {\n",
       "        // Keep the size of the canvas, canvas container, and rubber band\n",
       "        // canvas in synch.\n",
       "        canvas_div.css('width', width)\n",
       "        canvas_div.css('height', height)\n",
       "\n",
       "        canvas.attr('width', width * mpl.ratio);\n",
       "        canvas.attr('height', height * mpl.ratio);\n",
       "        canvas.attr('style', 'width: ' + width + 'px; height: ' + height + 'px;');\n",
       "\n",
       "        rubberband.attr('width', width);\n",
       "        rubberband.attr('height', height);\n",
       "    }\n",
       "\n",
       "    // Set the figure to an initial 600x600px, this will subsequently be updated\n",
       "    // upon first draw.\n",
       "    this._resize_canvas(600, 600);\n",
       "\n",
       "    // Disable right mouse context menu.\n",
       "    $(this.rubberband_canvas).bind(\"contextmenu\",function(e){\n",
       "        return false;\n",
       "    });\n",
       "\n",
       "    function set_focus () {\n",
       "        canvas.focus();\n",
       "        canvas_div.focus();\n",
       "    }\n",
       "\n",
       "    window.setTimeout(set_focus, 100);\n",
       "}\n",
       "\n",
       "mpl.figure.prototype._init_toolbar = function() {\n",
       "    var fig = this;\n",
       "\n",
       "    var nav_element = $('<div/>')\n",
       "    nav_element.attr('style', 'width: 100%');\n",
       "    this.root.append(nav_element);\n",
       "\n",
       "    // Define a callback function for later on.\n",
       "    function toolbar_event(event) {\n",
       "        return fig.toolbar_button_onclick(event['data']);\n",
       "    }\n",
       "    function toolbar_mouse_event(event) {\n",
       "        return fig.toolbar_button_onmouseover(event['data']);\n",
       "    }\n",
       "\n",
       "    for(var toolbar_ind in mpl.toolbar_items) {\n",
       "        var name = mpl.toolbar_items[toolbar_ind][0];\n",
       "        var tooltip = mpl.toolbar_items[toolbar_ind][1];\n",
       "        var image = mpl.toolbar_items[toolbar_ind][2];\n",
       "        var method_name = mpl.toolbar_items[toolbar_ind][3];\n",
       "\n",
       "        if (!name) {\n",
       "            // put a spacer in here.\n",
       "            continue;\n",
       "        }\n",
       "        var button = $('<button/>');\n",
       "        button.addClass('ui-button ui-widget ui-state-default ui-corner-all ' +\n",
       "                        'ui-button-icon-only');\n",
       "        button.attr('role', 'button');\n",
       "        button.attr('aria-disabled', 'false');\n",
       "        button.click(method_name, toolbar_event);\n",
       "        button.mouseover(tooltip, toolbar_mouse_event);\n",
       "\n",
       "        var icon_img = $('<span/>');\n",
       "        icon_img.addClass('ui-button-icon-primary ui-icon');\n",
       "        icon_img.addClass(image);\n",
       "        icon_img.addClass('ui-corner-all');\n",
       "\n",
       "        var tooltip_span = $('<span/>');\n",
       "        tooltip_span.addClass('ui-button-text');\n",
       "        tooltip_span.html(tooltip);\n",
       "\n",
       "        button.append(icon_img);\n",
       "        button.append(tooltip_span);\n",
       "\n",
       "        nav_element.append(button);\n",
       "    }\n",
       "\n",
       "    var fmt_picker_span = $('<span/>');\n",
       "\n",
       "    var fmt_picker = $('<select/>');\n",
       "    fmt_picker.addClass('mpl-toolbar-option ui-widget ui-widget-content');\n",
       "    fmt_picker_span.append(fmt_picker);\n",
       "    nav_element.append(fmt_picker_span);\n",
       "    this.format_dropdown = fmt_picker[0];\n",
       "\n",
       "    for (var ind in mpl.extensions) {\n",
       "        var fmt = mpl.extensions[ind];\n",
       "        var option = $(\n",
       "            '<option/>', {selected: fmt === mpl.default_extension}).html(fmt);\n",
       "        fmt_picker.append(option)\n",
       "    }\n",
       "\n",
       "    // Add hover states to the ui-buttons\n",
       "    $( \".ui-button\" ).hover(\n",
       "        function() { $(this).addClass(\"ui-state-hover\");},\n",
       "        function() { $(this).removeClass(\"ui-state-hover\");}\n",
       "    );\n",
       "\n",
       "    var status_bar = $('<span class=\"mpl-message\"/>');\n",
       "    nav_element.append(status_bar);\n",
       "    this.message = status_bar[0];\n",
       "}\n",
       "\n",
       "mpl.figure.prototype.request_resize = function(x_pixels, y_pixels) {\n",
       "    // Request matplotlib to resize the figure. Matplotlib will then trigger a resize in the client,\n",
       "    // which will in turn request a refresh of the image.\n",
       "    this.send_message('resize', {'width': x_pixels, 'height': y_pixels});\n",
       "}\n",
       "\n",
       "mpl.figure.prototype.send_message = function(type, properties) {\n",
       "    properties['type'] = type;\n",
       "    properties['figure_id'] = this.id;\n",
       "    this.ws.send(JSON.stringify(properties));\n",
       "}\n",
       "\n",
       "mpl.figure.prototype.send_draw_message = function() {\n",
       "    if (!this.waiting) {\n",
       "        this.waiting = true;\n",
       "        this.ws.send(JSON.stringify({type: \"draw\", figure_id: this.id}));\n",
       "    }\n",
       "}\n",
       "\n",
       "\n",
       "mpl.figure.prototype.handle_save = function(fig, msg) {\n",
       "    var format_dropdown = fig.format_dropdown;\n",
       "    var format = format_dropdown.options[format_dropdown.selectedIndex].value;\n",
       "    fig.ondownload(fig, format);\n",
       "}\n",
       "\n",
       "\n",
       "mpl.figure.prototype.handle_resize = function(fig, msg) {\n",
       "    var size = msg['size'];\n",
       "    if (size[0] != fig.canvas.width || size[1] != fig.canvas.height) {\n",
       "        fig._resize_canvas(size[0], size[1]);\n",
       "        fig.send_message(\"refresh\", {});\n",
       "    };\n",
       "}\n",
       "\n",
       "mpl.figure.prototype.handle_rubberband = function(fig, msg) {\n",
       "    var x0 = msg['x0'] / mpl.ratio;\n",
       "    var y0 = (fig.canvas.height - msg['y0']) / mpl.ratio;\n",
       "    var x1 = msg['x1'] / mpl.ratio;\n",
       "    var y1 = (fig.canvas.height - msg['y1']) / mpl.ratio;\n",
       "    x0 = Math.floor(x0) + 0.5;\n",
       "    y0 = Math.floor(y0) + 0.5;\n",
       "    x1 = Math.floor(x1) + 0.5;\n",
       "    y1 = Math.floor(y1) + 0.5;\n",
       "    var min_x = Math.min(x0, x1);\n",
       "    var min_y = Math.min(y0, y1);\n",
       "    var width = Math.abs(x1 - x0);\n",
       "    var height = Math.abs(y1 - y0);\n",
       "\n",
       "    fig.rubberband_context.clearRect(\n",
       "        0, 0, fig.canvas.width, fig.canvas.height);\n",
       "\n",
       "    fig.rubberband_context.strokeRect(min_x, min_y, width, height);\n",
       "}\n",
       "\n",
       "mpl.figure.prototype.handle_figure_label = function(fig, msg) {\n",
       "    // Updates the figure title.\n",
       "    fig.header.textContent = msg['label'];\n",
       "}\n",
       "\n",
       "mpl.figure.prototype.handle_cursor = function(fig, msg) {\n",
       "    var cursor = msg['cursor'];\n",
       "    switch(cursor)\n",
       "    {\n",
       "    case 0:\n",
       "        cursor = 'pointer';\n",
       "        break;\n",
       "    case 1:\n",
       "        cursor = 'default';\n",
       "        break;\n",
       "    case 2:\n",
       "        cursor = 'crosshair';\n",
       "        break;\n",
       "    case 3:\n",
       "        cursor = 'move';\n",
       "        break;\n",
       "    }\n",
       "    fig.rubberband_canvas.style.cursor = cursor;\n",
       "}\n",
       "\n",
       "mpl.figure.prototype.handle_message = function(fig, msg) {\n",
       "    fig.message.textContent = msg['message'];\n",
       "}\n",
       "\n",
       "mpl.figure.prototype.handle_draw = function(fig, msg) {\n",
       "    // Request the server to send over a new figure.\n",
       "    fig.send_draw_message();\n",
       "}\n",
       "\n",
       "mpl.figure.prototype.handle_image_mode = function(fig, msg) {\n",
       "    fig.image_mode = msg['mode'];\n",
       "}\n",
       "\n",
       "mpl.figure.prototype.updated_canvas_event = function() {\n",
       "    // Called whenever the canvas gets updated.\n",
       "    this.send_message(\"ack\", {});\n",
       "}\n",
       "\n",
       "// A function to construct a web socket function for onmessage handling.\n",
       "// Called in the figure constructor.\n",
       "mpl.figure.prototype._make_on_message_function = function(fig) {\n",
       "    return function socket_on_message(evt) {\n",
       "        if (evt.data instanceof Blob) {\n",
       "            /* FIXME: We get \"Resource interpreted as Image but\n",
       "             * transferred with MIME type text/plain:\" errors on\n",
       "             * Chrome.  But how to set the MIME type?  It doesn't seem\n",
       "             * to be part of the websocket stream */\n",
       "            evt.data.type = \"image/png\";\n",
       "\n",
       "            /* Free the memory for the previous frames */\n",
       "            if (fig.imageObj.src) {\n",
       "                (window.URL || window.webkitURL).revokeObjectURL(\n",
       "                    fig.imageObj.src);\n",
       "            }\n",
       "\n",
       "            fig.imageObj.src = (window.URL || window.webkitURL).createObjectURL(\n",
       "                evt.data);\n",
       "            fig.updated_canvas_event();\n",
       "            fig.waiting = false;\n",
       "            return;\n",
       "        }\n",
       "        else if (typeof evt.data === 'string' && evt.data.slice(0, 21) == \"data:image/png;base64\") {\n",
       "            fig.imageObj.src = evt.data;\n",
       "            fig.updated_canvas_event();\n",
       "            fig.waiting = false;\n",
       "            return;\n",
       "        }\n",
       "\n",
       "        var msg = JSON.parse(evt.data);\n",
       "        var msg_type = msg['type'];\n",
       "\n",
       "        // Call the  \"handle_{type}\" callback, which takes\n",
       "        // the figure and JSON message as its only arguments.\n",
       "        try {\n",
       "            var callback = fig[\"handle_\" + msg_type];\n",
       "        } catch (e) {\n",
       "            console.log(\"No handler for the '\" + msg_type + \"' message type: \", msg);\n",
       "            return;\n",
       "        }\n",
       "\n",
       "        if (callback) {\n",
       "            try {\n",
       "                // console.log(\"Handling '\" + msg_type + \"' message: \", msg);\n",
       "                callback(fig, msg);\n",
       "            } catch (e) {\n",
       "                console.log(\"Exception inside the 'handler_\" + msg_type + \"' callback:\", e, e.stack, msg);\n",
       "            }\n",
       "        }\n",
       "    };\n",
       "}\n",
       "\n",
       "// from http://stackoverflow.com/questions/1114465/getting-mouse-location-in-canvas\n",
       "mpl.findpos = function(e) {\n",
       "    //this section is from http://www.quirksmode.org/js/events_properties.html\n",
       "    var targ;\n",
       "    if (!e)\n",
       "        e = window.event;\n",
       "    if (e.target)\n",
       "        targ = e.target;\n",
       "    else if (e.srcElement)\n",
       "        targ = e.srcElement;\n",
       "    if (targ.nodeType == 3) // defeat Safari bug\n",
       "        targ = targ.parentNode;\n",
       "\n",
       "    // jQuery normalizes the pageX and pageY\n",
       "    // pageX,Y are the mouse positions relative to the document\n",
       "    // offset() returns the position of the element relative to the document\n",
       "    var x = e.pageX - $(targ).offset().left;\n",
       "    var y = e.pageY - $(targ).offset().top;\n",
       "\n",
       "    return {\"x\": x, \"y\": y};\n",
       "};\n",
       "\n",
       "/*\n",
       " * return a copy of an object with only non-object keys\n",
       " * we need this to avoid circular references\n",
       " * http://stackoverflow.com/a/24161582/3208463\n",
       " */\n",
       "function simpleKeys (original) {\n",
       "  return Object.keys(original).reduce(function (obj, key) {\n",
       "    if (typeof original[key] !== 'object')\n",
       "        obj[key] = original[key]\n",
       "    return obj;\n",
       "  }, {});\n",
       "}\n",
       "\n",
       "mpl.figure.prototype.mouse_event = function(event, name) {\n",
       "    var canvas_pos = mpl.findpos(event)\n",
       "\n",
       "    if (name === 'button_press')\n",
       "    {\n",
       "        this.canvas.focus();\n",
       "        this.canvas_div.focus();\n",
       "    }\n",
       "\n",
       "    var x = canvas_pos.x * mpl.ratio;\n",
       "    var y = canvas_pos.y * mpl.ratio;\n",
       "\n",
       "    this.send_message(name, {x: x, y: y, button: event.button,\n",
       "                             step: event.step,\n",
       "                             guiEvent: simpleKeys(event)});\n",
       "\n",
       "    /* This prevents the web browser from automatically changing to\n",
       "     * the text insertion cursor when the button is pressed.  We want\n",
       "     * to control all of the cursor setting manually through the\n",
       "     * 'cursor' event from matplotlib */\n",
       "    event.preventDefault();\n",
       "    return false;\n",
       "}\n",
       "\n",
       "mpl.figure.prototype._key_event_extra = function(event, name) {\n",
       "    // Handle any extra behaviour associated with a key event\n",
       "}\n",
       "\n",
       "mpl.figure.prototype.key_event = function(event, name) {\n",
       "\n",
       "    // Prevent repeat events\n",
       "    if (name == 'key_press')\n",
       "    {\n",
       "        if (event.which === this._key)\n",
       "            return;\n",
       "        else\n",
       "            this._key = event.which;\n",
       "    }\n",
       "    if (name == 'key_release')\n",
       "        this._key = null;\n",
       "\n",
       "    var value = '';\n",
       "    if (event.ctrlKey && event.which != 17)\n",
       "        value += \"ctrl+\";\n",
       "    if (event.altKey && event.which != 18)\n",
       "        value += \"alt+\";\n",
       "    if (event.shiftKey && event.which != 16)\n",
       "        value += \"shift+\";\n",
       "\n",
       "    value += 'k';\n",
       "    value += event.which.toString();\n",
       "\n",
       "    this._key_event_extra(event, name);\n",
       "\n",
       "    this.send_message(name, {key: value,\n",
       "                             guiEvent: simpleKeys(event)});\n",
       "    return false;\n",
       "}\n",
       "\n",
       "mpl.figure.prototype.toolbar_button_onclick = function(name) {\n",
       "    if (name == 'download') {\n",
       "        this.handle_save(this, null);\n",
       "    } else {\n",
       "        this.send_message(\"toolbar_button\", {name: name});\n",
       "    }\n",
       "};\n",
       "\n",
       "mpl.figure.prototype.toolbar_button_onmouseover = function(tooltip) {\n",
       "    this.message.textContent = tooltip;\n",
       "};\n",
       "mpl.toolbar_items = [[\"Home\", \"Reset original view\", \"fa fa-home icon-home\", \"home\"], [\"Back\", \"Back to  previous view\", \"fa fa-arrow-left icon-arrow-left\", \"back\"], [\"Forward\", \"Forward to next view\", \"fa fa-arrow-right icon-arrow-right\", \"forward\"], [\"\", \"\", \"\", \"\"], [\"Pan\", \"Pan axes with left mouse, zoom with right\", \"fa fa-arrows icon-move\", \"pan\"], [\"Zoom\", \"Zoom to rectangle\", \"fa fa-square-o icon-check-empty\", \"zoom\"], [\"\", \"\", \"\", \"\"], [\"Download\", \"Download plot\", \"fa fa-floppy-o icon-save\", \"download\"]];\n",
       "\n",
       "mpl.extensions = [\"eps\", \"jpeg\", \"pdf\", \"png\", \"ps\", \"raw\", \"svg\", \"tif\"];\n",
       "\n",
       "mpl.default_extension = \"png\";var comm_websocket_adapter = function(comm) {\n",
       "    // Create a \"websocket\"-like object which calls the given IPython comm\n",
       "    // object with the appropriate methods. Currently this is a non binary\n",
       "    // socket, so there is still some room for performance tuning.\n",
       "    var ws = {};\n",
       "\n",
       "    ws.close = function() {\n",
       "        comm.close()\n",
       "    };\n",
       "    ws.send = function(m) {\n",
       "        //console.log('sending', m);\n",
       "        comm.send(m);\n",
       "    };\n",
       "    // Register the callback with on_msg.\n",
       "    comm.on_msg(function(msg) {\n",
       "        //console.log('receiving', msg['content']['data'], msg);\n",
       "        // Pass the mpl event to the overriden (by mpl) onmessage function.\n",
       "        ws.onmessage(msg['content']['data'])\n",
       "    });\n",
       "    return ws;\n",
       "}\n",
       "\n",
       "mpl.mpl_figure_comm = function(comm, msg) {\n",
       "    // This is the function which gets called when the mpl process\n",
       "    // starts-up an IPython Comm through the \"matplotlib\" channel.\n",
       "\n",
       "    var id = msg.content.data.id;\n",
       "    // Get hold of the div created by the display call when the Comm\n",
       "    // socket was opened in Python.\n",
       "    var element = $(\"#\" + id);\n",
       "    var ws_proxy = comm_websocket_adapter(comm)\n",
       "\n",
       "    function ondownload(figure, format) {\n",
       "        window.open(figure.imageObj.src);\n",
       "    }\n",
       "\n",
       "    var fig = new mpl.figure(id, ws_proxy,\n",
       "                           ondownload,\n",
       "                           element.get(0));\n",
       "\n",
       "    // Call onopen now - mpl needs it, as it is assuming we've passed it a real\n",
       "    // web socket which is closed, not our websocket->open comm proxy.\n",
       "    ws_proxy.onopen();\n",
       "\n",
       "    fig.parent_element = element.get(0);\n",
       "    fig.cell_info = mpl.find_output_cell(\"<div id='\" + id + \"'></div>\");\n",
       "    if (!fig.cell_info) {\n",
       "        console.error(\"Failed to find cell for figure\", id, fig);\n",
       "        return;\n",
       "    }\n",
       "\n",
       "    var output_index = fig.cell_info[2]\n",
       "    var cell = fig.cell_info[0];\n",
       "\n",
       "};\n",
       "\n",
       "mpl.figure.prototype.handle_close = function(fig, msg) {\n",
       "    var width = fig.canvas.width/mpl.ratio\n",
       "    fig.root.unbind('remove')\n",
       "\n",
       "    // Update the output cell to use the data from the current canvas.\n",
       "    fig.push_to_output();\n",
       "    var dataURL = fig.canvas.toDataURL();\n",
       "    // Re-enable the keyboard manager in IPython - without this line, in FF,\n",
       "    // the notebook keyboard shortcuts fail.\n",
       "    IPython.keyboard_manager.enable()\n",
       "    $(fig.parent_element).html('<img src=\"' + dataURL + '\" width=\"' + width + '\">');\n",
       "    fig.close_ws(fig, msg);\n",
       "}\n",
       "\n",
       "mpl.figure.prototype.close_ws = function(fig, msg){\n",
       "    fig.send_message('closing', msg);\n",
       "    // fig.ws.close()\n",
       "}\n",
       "\n",
       "mpl.figure.prototype.push_to_output = function(remove_interactive) {\n",
       "    // Turn the data on the canvas into data in the output cell.\n",
       "    var width = this.canvas.width/mpl.ratio\n",
       "    var dataURL = this.canvas.toDataURL();\n",
       "    this.cell_info[1]['text/html'] = '<img src=\"' + dataURL + '\" width=\"' + width + '\">';\n",
       "}\n",
       "\n",
       "mpl.figure.prototype.updated_canvas_event = function() {\n",
       "    // Tell IPython that the notebook contents must change.\n",
       "    IPython.notebook.set_dirty(true);\n",
       "    this.send_message(\"ack\", {});\n",
       "    var fig = this;\n",
       "    // Wait a second, then push the new image to the DOM so\n",
       "    // that it is saved nicely (might be nice to debounce this).\n",
       "    setTimeout(function () { fig.push_to_output() }, 1000);\n",
       "}\n",
       "\n",
       "mpl.figure.prototype._init_toolbar = function() {\n",
       "    var fig = this;\n",
       "\n",
       "    var nav_element = $('<div/>')\n",
       "    nav_element.attr('style', 'width: 100%');\n",
       "    this.root.append(nav_element);\n",
       "\n",
       "    // Define a callback function for later on.\n",
       "    function toolbar_event(event) {\n",
       "        return fig.toolbar_button_onclick(event['data']);\n",
       "    }\n",
       "    function toolbar_mouse_event(event) {\n",
       "        return fig.toolbar_button_onmouseover(event['data']);\n",
       "    }\n",
       "\n",
       "    for(var toolbar_ind in mpl.toolbar_items){\n",
       "        var name = mpl.toolbar_items[toolbar_ind][0];\n",
       "        var tooltip = mpl.toolbar_items[toolbar_ind][1];\n",
       "        var image = mpl.toolbar_items[toolbar_ind][2];\n",
       "        var method_name = mpl.toolbar_items[toolbar_ind][3];\n",
       "\n",
       "        if (!name) { continue; };\n",
       "\n",
       "        var button = $('<button class=\"btn btn-default\" href=\"#\" title=\"' + name + '\"><i class=\"fa ' + image + ' fa-lg\"></i></button>');\n",
       "        button.click(method_name, toolbar_event);\n",
       "        button.mouseover(tooltip, toolbar_mouse_event);\n",
       "        nav_element.append(button);\n",
       "    }\n",
       "\n",
       "    // Add the status bar.\n",
       "    var status_bar = $('<span class=\"mpl-message\" style=\"text-align:right; float: right;\"/>');\n",
       "    nav_element.append(status_bar);\n",
       "    this.message = status_bar[0];\n",
       "\n",
       "    // Add the close button to the window.\n",
       "    var buttongrp = $('<div class=\"btn-group inline pull-right\"></div>');\n",
       "    var button = $('<button class=\"btn btn-mini btn-primary\" href=\"#\" title=\"Stop Interaction\"><i class=\"fa fa-power-off icon-remove icon-large\"></i></button>');\n",
       "    button.click(function (evt) { fig.handle_close(fig, {}); } );\n",
       "    button.mouseover('Stop Interaction', toolbar_mouse_event);\n",
       "    buttongrp.append(button);\n",
       "    var titlebar = this.root.find($('.ui-dialog-titlebar'));\n",
       "    titlebar.prepend(buttongrp);\n",
       "}\n",
       "\n",
       "mpl.figure.prototype._root_extra_style = function(el){\n",
       "    var fig = this\n",
       "    el.on(\"remove\", function(){\n",
       "\tfig.close_ws(fig, {});\n",
       "    });\n",
       "}\n",
       "\n",
       "mpl.figure.prototype._canvas_extra_style = function(el){\n",
       "    // this is important to make the div 'focusable\n",
       "    el.attr('tabindex', 0)\n",
       "    // reach out to IPython and tell the keyboard manager to turn it's self\n",
       "    // off when our div gets focus\n",
       "\n",
       "    // location in version 3\n",
       "    if (IPython.notebook.keyboard_manager) {\n",
       "        IPython.notebook.keyboard_manager.register_events(el);\n",
       "    }\n",
       "    else {\n",
       "        // location in version 2\n",
       "        IPython.keyboard_manager.register_events(el);\n",
       "    }\n",
       "\n",
       "}\n",
       "\n",
       "mpl.figure.prototype._key_event_extra = function(event, name) {\n",
       "    var manager = IPython.notebook.keyboard_manager;\n",
       "    if (!manager)\n",
       "        manager = IPython.keyboard_manager;\n",
       "\n",
       "    // Check for shift+enter\n",
       "    if (event.shiftKey && event.which == 13) {\n",
       "        this.canvas_div.blur();\n",
       "        // select the cell after this one\n",
       "        var index = IPython.notebook.find_cell_index(this.cell_info[0]);\n",
       "        IPython.notebook.select(index + 1);\n",
       "    }\n",
       "}\n",
       "\n",
       "mpl.figure.prototype.handle_save = function(fig, msg) {\n",
       "    fig.ondownload(fig, null);\n",
       "}\n",
       "\n",
       "\n",
       "mpl.find_output_cell = function(html_output) {\n",
       "    // Return the cell and output element which can be found *uniquely* in the notebook.\n",
       "    // Note - this is a bit hacky, but it is done because the \"notebook_saving.Notebook\"\n",
       "    // IPython event is triggered only after the cells have been serialised, which for\n",
       "    // our purposes (turning an active figure into a static one), is too late.\n",
       "    var cells = IPython.notebook.get_cells();\n",
       "    var ncells = cells.length;\n",
       "    for (var i=0; i<ncells; i++) {\n",
       "        var cell = cells[i];\n",
       "        if (cell.cell_type === 'code'){\n",
       "            for (var j=0; j<cell.output_area.outputs.length; j++) {\n",
       "                var data = cell.output_area.outputs[j];\n",
       "                if (data.data) {\n",
       "                    // IPython >= 3 moved mimebundle to data attribute of output\n",
       "                    data = data.data;\n",
       "                }\n",
       "                if (data['text/html'] == html_output) {\n",
       "                    return [cell, data, j];\n",
       "                }\n",
       "            }\n",
       "        }\n",
       "    }\n",
       "}\n",
       "\n",
       "// Register the function which deals with the matplotlib target/channel.\n",
       "// The kernel may be null if the page has been refreshed.\n",
       "if (IPython.notebook.kernel != null) {\n",
       "    IPython.notebook.kernel.comm_manager.register_target('matplotlib', mpl.mpl_figure_comm);\n",
       "}\n"
      ],
      "text/plain": [
       "<IPython.core.display.Javascript object>"
      ]
     },
     "metadata": {},
     "output_type": "display_data"
    },
    {
     "data": {
      "text/html": [
       "<img src=\"data:image/png;base64,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\" width=\"800\">"
      ],
      "text/plain": [
       "<IPython.core.display.HTML object>"
      ]
     },
     "metadata": {},
     "output_type": "display_data"
    },
    {
     "data": {
      "text/plain": [
       "<matplotlib.legend.Legend at 0x7fd7421c9898>"
      ]
     },
     "execution_count": 1,
     "metadata": {},
     "output_type": "execute_result"
    }
   ],
   "source": [
    "%matplotlib notebook\n",
    "\n",
    "import pandas as pd\n",
    "import numpy as np\n",
    "import matplotlib\n",
    "\n",
    "from matplotlib import pyplot as plt\n",
    "import seaborn as sns\n",
    "\n",
    "ts = pd.Series(np.random.randn(1000), index=pd.date_range('1/1/2000', periods=1000))\n",
    "ts = ts.cumsum()\n",
    "\n",
    "df = pd.DataFrame(np.random.randn(1000, 4), index=ts.index,\n",
    "                  columns=['A', 'B', 'C', 'D'])\n",
    "df = df.cumsum()\n",
    "df.plot(); plt.legend(loc='best')"
   ]
  },
  {
   "cell_type": "markdown",
   "metadata": {},
   "source": [
    "# Python libraries and Data Structures"
   ]
  },
  {
   "cell_type": "markdown",
   "metadata": {},
   "source": [
    "- Lists They are one of the most versatile data structure in Python. A list can simply be defined by writing a list of comma separated values in square brackets. Lists might contain items of different types, but usually the items all have the same type. Python lists are mutable and individual elements of a list can be changed.\n",
    "Here is a quick example to define a list and then access it:"
   ]
  },
  {
   "cell_type": "code",
   "execution_count": 2,
   "metadata": {},
   "outputs": [],
   "source": [
    "squares_list = [1,2,4,9,16,25]"
   ]
  },
  {
   "cell_type": "code",
   "execution_count": 3,
   "metadata": {},
   "outputs": [
    {
     "data": {
      "text/plain": [
       "[1, 2, 4, 9, 16, 25]"
      ]
     },
     "execution_count": 3,
     "metadata": {},
     "output_type": "execute_result"
    }
   ],
   "source": [
    "squares_list"
   ]
  },
  {
   "cell_type": "markdown",
   "metadata": {},
   "source": [
    "Individual Elements can be accessed by using array indexing just as we do in C, C++ etc"
   ]
  },
  {
   "cell_type": "code",
   "execution_count": 4,
   "metadata": {},
   "outputs": [
    {
     "data": {
      "text/plain": [
       "1"
      ]
     },
     "execution_count": 4,
     "metadata": {},
     "output_type": "execute_result"
    }
   ],
   "source": [
    "squares_list[0]"
   ]
  },
  {
   "cell_type": "code",
   "execution_count": 5,
   "metadata": {},
   "outputs": [
    {
     "data": {
      "text/plain": [
       "4"
      ]
     },
     "execution_count": 5,
     "metadata": {},
     "output_type": "execute_result"
    }
   ],
   "source": [
    "squares_list[2]"
   ]
  },
  {
   "cell_type": "markdown",
   "metadata": {},
   "source": [
    "A range of script can be accessed by using [:]"
   ]
  },
  {
   "cell_type": "code",
   "execution_count": 6,
   "metadata": {},
   "outputs": [
    {
     "data": {
      "text/plain": [
       "[1, 2, 4, 9, 16, 25]"
      ]
     },
     "execution_count": 6,
     "metadata": {},
     "output_type": "execute_result"
    }
   ],
   "source": [
    "squares_list[:] # prints all"
   ]
  },
  {
   "cell_type": "code",
   "execution_count": 7,
   "metadata": {},
   "outputs": [
    {
     "data": {
      "text/plain": [
       "[1, 2, 4]"
      ]
     },
     "execution_count": 7,
     "metadata": {},
     "output_type": "execute_result"
    }
   ],
   "source": [
    "squares_list[:3]# excludes the last index"
   ]
  },
  {
   "cell_type": "markdown",
   "metadata": {},
   "source": [
    "A negative indexing is also possible..\n",
    "It access the list from the end.."
   ]
  },
  {
   "cell_type": "code",
   "execution_count": 8,
   "metadata": {},
   "outputs": [
    {
     "data": {
      "text/plain": [
       "25"
      ]
     },
     "execution_count": 8,
     "metadata": {},
     "output_type": "execute_result"
    }
   ],
   "source": [
    "squares_list[-1]"
   ]
  },
  {
   "cell_type": "code",
   "execution_count": 9,
   "metadata": {},
   "outputs": [
    {
     "data": {
      "text/plain": [
       "[25, 16, 9, 4, 2, 1]"
      ]
     },
     "execution_count": 9,
     "metadata": {},
     "output_type": "execute_result"
    }
   ],
   "source": [
    "squares_list[::-1]# reverse a list"
   ]
  },
  {
   "cell_type": "markdown",
   "metadata": {},
   "source": [
    "- Strings They can simply be defined by use of single ( ‘ ), double ( ” ) or triple ( ”’ ) inverted commas. Strings enclosed in tripe quotes ( ”’ ) can span over multiple lines and are used frequently in docstrings (Python’s way of documenting functions). \\ is used as an escape character. Please note that Python strings are immutable, so you can not change part of strings."
   ]
  },
  {
   "cell_type": "code",
   "execution_count": 10,
   "metadata": {},
   "outputs": [
    {
     "name": "stdout",
     "output_type": "stream",
     "text": [
      " \n",
      " Hello\n",
      " Hello World\n"
     ]
    }
   ],
   "source": [
    "greet = ' Hello'\n",
    "print(greet[0])\n",
    "print(greet)\n",
    "print(greet+' World')"
   ]
  },
  {
   "cell_type": "markdown",
   "metadata": {},
   "source": [
    "Raw strings can also be used as a string as is by adding r."
   ]
  },
  {
   "cell_type": "code",
   "execution_count": 11,
   "metadata": {},
   "outputs": [
    {
     "data": {
      "text/plain": [
       "'\\\\n is a newline character'"
      ]
     },
     "execution_count": 11,
     "metadata": {},
     "output_type": "execute_result"
    }
   ],
   "source": [
    "stmt = r'\\n is a newline character'\n",
    "stmt"
   ]
  },
  {
   "cell_type": "code",
   "execution_count": 12,
   "metadata": {},
   "outputs": [
    {
     "ename": "TypeError",
     "evalue": "'str' object does not support item assignment",
     "output_type": "error",
     "traceback": [
      "\u001b[0;31m---------------------------------------------------------------------------\u001b[0m",
      "\u001b[0;31mTypeError\u001b[0m                                 Traceback (most recent call last)",
      "\u001b[0;32m<ipython-input-12-4a49b79b98d5>\u001b[0m in \u001b[0;36m<module>\u001b[0;34m()\u001b[0m\n\u001b[1;32m      1\u001b[0m \u001b[0;31m# Python Strings are immutable and hence cannot be changed as such\u001b[0m\u001b[0;34m\u001b[0m\u001b[0;34m\u001b[0m\u001b[0m\n\u001b[0;32m----> 2\u001b[0;31m \u001b[0mgreet\u001b[0m\u001b[0;34m[\u001b[0m\u001b[0;36m1\u001b[0m\u001b[0;34m:\u001b[0m\u001b[0;34m]\u001b[0m \u001b[0;34m=\u001b[0m \u001b[0;34m'h'\u001b[0m\u001b[0;34m\u001b[0m\u001b[0m\n\u001b[0m",
      "\u001b[0;31mTypeError\u001b[0m: 'str' object does not support item assignment"
     ]
    }
   ],
   "source": [
    "# Python Strings are immutable and hence cannot be changed as such\n",
    "greet[1:] = 'h'"
   ]
  },
  {
   "cell_type": "markdown",
   "metadata": {},
   "source": [
    "- Tuples A tuple is represented by a number of values separated by commas. Tuples are immutable and the output is surrounded by parentheses so that nested tuples are processed correctly. Additionally, even though tuples are immutable, they can hold mutable data if needed.Since Tuples are immutable and can not change, they are faster in processing as compared to lists. Hence, if your list is unlikely to change, you should use tuples, instead of lists."
   ]
  },
  {
   "cell_type": "code",
   "execution_count": 13,
   "metadata": {},
   "outputs": [],
   "source": [
    "tuple_example = 0, 1, 4, 9, 16, 25"
   ]
  },
  {
   "cell_type": "code",
   "execution_count": 14,
   "metadata": {},
   "outputs": [
    {
     "data": {
      "text/plain": [
       "(0, 1, 4, 9, 16, 25)"
      ]
     },
     "execution_count": 14,
     "metadata": {},
     "output_type": "execute_result"
    }
   ],
   "source": [
    "tuple_example # in parenthesis"
   ]
  },
  {
   "cell_type": "code",
   "execution_count": 15,
   "metadata": {},
   "outputs": [
    {
     "data": {
      "text/plain": [
       "4"
      ]
     },
     "execution_count": 15,
     "metadata": {},
     "output_type": "execute_result"
    }
   ],
   "source": [
    "tuple_example[2]"
   ]
  },
  {
   "cell_type": "code",
   "execution_count": 16,
   "metadata": {},
   "outputs": [
    {
     "data": {
      "text/plain": [
       "(0, 1, 4, 9, 16, 25)"
      ]
     },
     "execution_count": 16,
     "metadata": {},
     "output_type": "execute_result"
    }
   ],
   "source": [
    "tuple_example[:]"
   ]
  },
  {
   "cell_type": "code",
   "execution_count": 18,
   "metadata": {},
   "outputs": [
    {
     "ename": "TypeError",
     "evalue": "'tuple' object does not support item assignment",
     "output_type": "error",
     "traceback": [
      "\u001b[0;31m---------------------------------------------------------------------------\u001b[0m",
      "\u001b[0;31mTypeError\u001b[0m                                 Traceback (most recent call last)",
      "\u001b[0;32m<ipython-input-18-6dd4cdd81f80>\u001b[0m in \u001b[0;36m<module>\u001b[0;34m()\u001b[0m\n\u001b[0;32m----> 1\u001b[0;31m \u001b[0mtuple_example\u001b[0m\u001b[0;34m[\u001b[0m\u001b[0;36m2\u001b[0m\u001b[0;34m]\u001b[0m \u001b[0;34m=\u001b[0m \u001b[0;36m6\u001b[0m \u001b[0;31m# immutable so error\u001b[0m\u001b[0;34m\u001b[0m\u001b[0m\n\u001b[0m",
      "\u001b[0;31mTypeError\u001b[0m: 'tuple' object does not support item assignment"
     ]
    }
   ],
   "source": [
    "tuple_example[2] = 6 # immutable so error"
   ]
  },
  {
   "cell_type": "markdown",
   "metadata": {},
   "source": [
    "- Dictionary It is an unordered set of key: value pairs, with the requirement that the keys are unique (within one dictionary). A pair of braces creates an empty dictionary: {}. "
   ]
  },
  {
   "cell_type": "code",
   "execution_count": 19,
   "metadata": {},
   "outputs": [],
   "source": [
    "extensions = {'a':65, 'b':66, 'c':67}"
   ]
  },
  {
   "cell_type": "code",
   "execution_count": 20,
   "metadata": {},
   "outputs": [
    {
     "data": {
      "text/plain": [
       "{'a': 65, 'b': 66, 'c': 67}"
      ]
     },
     "execution_count": 20,
     "metadata": {},
     "output_type": "execute_result"
    }
   ],
   "source": [
    "extensions"
   ]
  },
  {
   "cell_type": "code",
   "execution_count": 21,
   "metadata": {},
   "outputs": [
    {
     "data": {
      "text/plain": [
       "65"
      ]
     },
     "execution_count": 21,
     "metadata": {},
     "output_type": "execute_result"
    }
   ],
   "source": [
    "extensions['a']"
   ]
  },
  {
   "cell_type": "code",
   "execution_count": 23,
   "metadata": {},
   "outputs": [
    {
     "ename": "KeyError",
     "evalue": "'d'",
     "output_type": "error",
     "traceback": [
      "\u001b[0;31m---------------------------------------------------------------------------\u001b[0m",
      "\u001b[0;31mKeyError\u001b[0m                                  Traceback (most recent call last)",
      "\u001b[0;32m<ipython-input-23-262b0273e003>\u001b[0m in \u001b[0;36m<module>\u001b[0;34m()\u001b[0m\n\u001b[0;32m----> 1\u001b[0;31m \u001b[0mextensions\u001b[0m\u001b[0;34m[\u001b[0m\u001b[0;34m'd'\u001b[0m\u001b[0;34m]\u001b[0m \u001b[0;31m# error key doesn't exists\u001b[0m\u001b[0;34m\u001b[0m\u001b[0m\n\u001b[0m",
      "\u001b[0;31mKeyError\u001b[0m: 'd'"
     ]
    }
   ],
   "source": [
    "extensions['d'] # error key doesn't exists"
   ]
  },
  {
   "cell_type": "code",
   "execution_count": 24,
   "metadata": {},
   "outputs": [
    {
     "data": {
      "text/plain": [
       "dict_keys(['a', 'b', 'c'])"
      ]
     },
     "execution_count": 24,
     "metadata": {},
     "output_type": "execute_result"
    }
   ],
   "source": [
    "extensions.keys()"
   ]
  },
  {
   "cell_type": "code",
   "execution_count": 25,
   "metadata": {},
   "outputs": [
    {
     "data": {
      "text/plain": [
       "dict_values([65, 66, 67])"
      ]
     },
     "execution_count": 25,
     "metadata": {},
     "output_type": "execute_result"
    }
   ],
   "source": [
    "extensions.values()"
   ]
  },
  {
   "cell_type": "markdown",
   "metadata": {},
   "source": [
    "- Python Iteration and Conditional Constructs\n",
    "Like most languages, Python also has a FOR-loop which is the most widely used method for iteration. It has a simple syntax:"
   ]
  },
  {
   "cell_type": "code",
   "execution_count": 28,
   "metadata": {},
   "outputs": [
    {
     "data": {
      "text/plain": [
       "120"
      ]
     },
     "execution_count": 28,
     "metadata": {},
     "output_type": "execute_result"
    }
   ],
   "source": [
    "'''\n",
    "for i in [Python Iterable]:\n",
    "  expression(i)\n",
    "\n",
    "Here “Python Iterable” can be a list, tuple or other advanced data structures which we will explore in later sections. \n",
    "Let’s take a look at a simple example, determining the factorial of a number.\n",
    "'''\n",
    "fact=1\n",
    "N = 5\n",
    "for i in range(1,N+1): # uptill not equals to last element\n",
    "    fact *= i\n",
    "fact"
   ]
  },
  {
   "cell_type": "code",
   "execution_count": 31,
   "metadata": {},
   "outputs": [
    {
     "name": "stdout",
     "output_type": "stream",
     "text": [
      "Odd\n"
     ]
    }
   ],
   "source": [
    "'''\n",
    "Coming to conditional statements, these are used to execute code fragments based on a condition. \n",
    "The most commonly used construct is if-else, with following syntax:\n",
    "\n",
    "if [condition]:\n",
    "  __execution if true__\n",
    "else:\n",
    "  __execution if false__\n",
    "For instance, if we want to print whether the number N is even or odd:\n",
    "'''\n",
    "if N%2 == 0:\n",
    "    print('Even')\n",
    "else:\n",
    "    print('Odd')"
   ]
  },
  {
   "cell_type": "markdown",
   "metadata": {},
   "source": [
    "### Python Libraries\n",
    "Lets take one step ahead in our journey to learn Python by getting acquainted with some useful libraries. The first step is obviously to learn to import them into our environment. There are several ways of doing so in Python:"
   ]
  },
  {
   "cell_type": "code",
   "execution_count": 34,
   "metadata": {},
   "outputs": [
    {
     "data": {
      "text/plain": [
       "'\\nIn the first manner, we have defined an alias m to library math. \\nWe can now use various functions from math library (e.g. factorial) by referencing it using the alias m.factorial().\\n\\nIn the second manner, you have imported the entire name space in math i.e. \\nyou can directly use factorial() without referring to math.\\n'"
      ]
     },
     "execution_count": 34,
     "metadata": {},
     "output_type": "execute_result"
    }
   ],
   "source": [
    "#1st\n",
    "import math as m \n",
    "# 2nd from math import *\n",
    "'''\n",
    "In the first manner, we have defined an alias m to library math. \n",
    "We can now use various functions from math library (e.g. factorial) by referencing it using the alias m.factorial().\n",
    "\n",
    "In the second manner, you have imported the entire name space in math i.e. \n",
    "you can directly use factorial() without referring to math.\n",
    "'''"
   ]
  },
  {
   "cell_type": "markdown",
   "metadata": {},
   "source": [
    "### Following are a list of libraries, you will need for any scientific computations and data analysis:\n",
    "\n",
    "- NumPy stands for Numerical Python. The most powerful feature of NumPy is n-dimensional array. This library also contains basic linear algebra functions, Fourier transforms,  advanced random number capabilities and tools for integration with other low level languages like Fortran, C and C++\n",
    "- SciPy stands for Scientific Python. SciPy is built on NumPy. It is one of the most useful library for variety of high level science and engineering modules like discrete Fourier transform, Linear Algebra, Optimization and Sparse matrices.\n",
    "- Matplotlib for plotting vast variety of graphs, starting from histograms to line plots to heat plots.. You can use Pylab feature in ipython notebook (ipython notebook –pylab = inline) to use these plotting features inline. If you ignore the inline option, then pylab converts ipython environment to an environment, very similar to Matlab. You can also use Latex commands to add math to your plot.\n",
    "- Pandas for structured data operations and manipulations. It is extensively used for data munging and preparation. Pandas were added relatively recently to Python and have been instrumental in boosting Python’s usage in data scientist community.\n",
    "- Scikit Learn for machine learning. Built on NumPy, SciPy and matplotlib, this library contains a lot of effiecient tools for machine learning and statistical modeling including classification, regression, clustering and dimensionality reduction.\n",
    "- Statsmodels for statistical modeling. Statsmodels is a Python module that allows users to explore data, estimate statistical models, and perform statistical tests. An extensive list of descriptive statistics, statistical tests, plotting functions, and result statistics are available for different types of data and each estimator.\n",
    "- Seaborn for statistical data visualization. Seaborn is a library for making attractive and informative statistical graphics in Python. It is based on matplotlib. Seaborn aims to make visualization a central part of exploring and understanding data.\n",
    "- Bokeh for creating interactive plots, dashboards and data applications on modern web-browsers. It empowers the user to generate elegant and concise graphics in the style of D3.js. Moreover, it has the capability of high-performance interactivity over very large or streaming datasets.\n",
    "- Blaze for extending the capability of Numpy and Pandas to distributed and streaming datasets. It can be used to access data from a multitude of sources including Bcolz, MongoDB, SQLAlchemy, Apache Spark, PyTables, etc. Together with Bokeh, Blaze can act as a very powerful tool for creating effective visualizations and dashboards on huge chunks of data.\n",
    "- Scrapy for web crawling. It is a very useful framework for getting specific patterns of data. It has the capability to start at a website home url and then dig through web-pages within the website to gather information.\n",
    "- SymPy for symbolic computation. It has wide-ranging capabilities from basic symbolic arithmetic to calculus, algebra, discrete mathematics and quantum physics. Another useful feature is the capability of formatting the result of the computations as LaTeX code.\n",
    "- Requests for accessing the web. It works similar to the the standard python library urllib2 but is much easier to code. You will find subtle differences with urllib2 but for beginners, Requests might be more convenient.\n",
    "\n",
    "Additional libraries, you might need:\n",
    "\n",
    "- os for Operating system and file operations\n",
    "- networkx and igraph for graph based data manipulations\n",
    "- regular expressions for finding patterns in text data\n",
    "- BeautifulSoup for scrapping web. It is inferior to Scrapy as it will extract information from just a single webpage in a run.\n",
    "\n",
    "Now that we are familiar with Python fundamentals and additional libraries, lets take a deep dive into problem solving through Python. Yes I mean making a predictive model! In the process, we use some powerful libraries and also come across the next level of data structures. We will take you through the 3 key phases:\n",
    "\n",
    "- Data Exploration – finding out more about the data we have\n",
    "- Data Munging – cleaning the data and playing with it to make it better suit statistical modeling\n",
    "- Predictive Modeling – running the actual algorithms and having fun 🙂"
   ]
  },
  {
   "cell_type": "code",
   "execution_count": 35,
   "metadata": {},
   "outputs": [
    {
     "data": {
      "text/plain": [
       "'\\nList comprehension is powerful and must know concept in Python. \\nYet, this remains one of the most challenging topic for beginners. \\nI intend help each one of you who is facing this trouble in python. \\nMastering this concept would help you in two ways:\\n1. You would start writing shorter and effective codes\\n2. Hence, your code will execute faster\\nDo you know List Comprehensions are 35% faster than FOR loop and 45% faster than map function?\\n'"
      ]
     },
     "execution_count": 35,
     "metadata": {},
     "output_type": "execute_result"
    }
   ],
   "source": [
    "# List Comprehensions\n",
    "'''\n",
    "List comprehension is powerful and must know concept in Python. \n",
    "Yet, this remains one of the most challenging topic for beginners. \n",
    "I intend help each one of you who is facing this trouble in python. \n",
    "Mastering this concept would help you in two ways:\n",
    "1. You would start writing shorter and effective codes\n",
    "2. Hence, your code will execute faster\n",
    "Do you know List Comprehensions are 35% faster than FOR loop and 45% faster than map function?\n",
    "'''"
   ]
  },
  {
   "cell_type": "markdown",
   "metadata": {},
   "source": [
    "Lets look at some of basic examples:\n",
    "\n",
    "- { x^2: x is a natural number less than 10 }\n",
    "- { x: x is a whole number less than 20, x is even }\n",
    "- { x: x is an alphabet in word ‘MATHEMATICS’, x is a vowel }\n",
    "\n",
    "Now let’s look at the corresponding Python codes implementing LC (in the same order):\n",
    "\n",
    "- [x**2 for x in range(0,10)]\n",
    "\n",
    "- [x for x in range(1,20) if x%2==0 ]\n",
    "\n",
    "- [x for x in 'MATHEMATICS' if x in ['A','E','I','O','U']]"
   ]
  },
  {
   "cell_type": "code",
   "execution_count": 38,
   "metadata": {},
   "outputs": [
    {
     "data": {
      "text/plain": [
       "'\\nThe same gets implemented in a simple List Comprehension construct in a single line as:\\n [ output_expression() for(set of values to iterate) if(conditional filtering) ]\\n'"
      ]
     },
     "execution_count": 38,
     "metadata": {},
     "output_type": "execute_result"
    }
   ],
   "source": [
    "'''\n",
    "In a general sense, a FOR loop works as:\n",
    "for (set of values to iterate):\n",
    "  if (conditional filtering): \n",
    "    output_expression()\n",
    "'''\n",
    "'''\n",
    "The same gets implemented in a simple List Comprehension construct in a single line as:\n",
    " [ output_expression() for(set of values to iterate) if(conditional filtering) ]\n",
    "'''"
   ]
  },
  {
   "cell_type": "markdown",
   "metadata": {},
   "source": [
    "Consider another example: { x: x is a natural number less than or equal to 100, x is a perfect square }\n",
    "\n",
    "This can be solved using a for-loop as:"
   ]
  },
  {
   "cell_type": "code",
   "execution_count": 41,
   "metadata": {},
   "outputs": [
    {
     "name": "stdout",
     "output_type": "stream",
     "text": [
      "1 4 9 16 25 36 49 64 81 100 "
     ]
    }
   ],
   "source": [
    "for i in range(1,101):     #the iterator\n",
    "   if int(i**0.5)==i**0.5: #conditional filtering\n",
    "     print (i,end =\" \")    #output-expression in a sinle line seperated by \" \" "
   ]
  },
  {
   "cell_type": "markdown",
   "metadata": {},
   "source": [
    "Now, to create the List Comprehension code, we need to just plug in the different parts:"
   ]
  },
  {
   "cell_type": "code",
   "execution_count": 42,
   "metadata": {},
   "outputs": [
    {
     "data": {
      "text/plain": [
       "[1, 4, 9, 16, 25, 36, 49, 64, 81, 100]"
      ]
     },
     "execution_count": 42,
     "metadata": {},
     "output_type": "execute_result"
    }
   ],
   "source": [
    "[i for i in range(1,101) if int(i**0.5)==i**0.5]"
   ]
  },
  {
   "cell_type": "markdown",
   "metadata": {},
   "source": [
    "I hope it is making more sense now. Once you get a hang of it, List Comprehension is a simple but powerful technique and can help you accomplish a variety of tasks with ease. Things to keep in mind:\n",
    "- List Comprehension will always return a result, whether you use the result or nor.\n",
    "- The iteration and conditional expressions can be nested with multiple instances.\n",
    "- Even the overall List Comprehension can be nested inside another List Comprehension.\n",
    "- Multiple variables can be iterated and manipulated at same time."
   ]
  },
  {
   "cell_type": "markdown",
   "metadata": {},
   "source": [
    "Example 1: Flatten a Matrix\n",
    "\n",
    "Aim: Take a matrix as input and return a list with each row placed on after the other."
   ]
  },
  {
   "cell_type": "code",
   "execution_count": 47,
   "metadata": {},
   "outputs": [
    {
     "name": "stdout",
     "output_type": "stream",
     "text": [
      "Original Matrix: [range(0, 5), range(5, 10), range(10, 15)]\n",
      "FOR-loop result: [0, 1, 2, 3, 4, 5, 6, 7, 8, 9, 10, 11, 12, 13, 14]\n",
      "List Comprehension result      : [0, 1, 2, 3, 4, 5, 6, 7, 8, 9, 10, 11, 12, 13, 14]\n"
     ]
    }
   ],
   "source": [
    "#Python codes with FOR-loop and LC implementations:\n",
    "\n",
    "def eg1_for(matrix):\n",
    "    flat = []\n",
    "    for row in matrix:\n",
    "        for x in row:\n",
    "            flat.append(x)\n",
    "    return flat\n",
    "\n",
    "def eg1_lc(matrix):\n",
    "    return [x for row in matrix for x in row ]\n",
    "\n",
    "#Let’s define a matrix and test the results:\n",
    "\n",
    "matrix = [ range(0,5), range(5,10), range(10,15) ]\n",
    "print (\"Original Matrix: \" + str(matrix))\n",
    "print (\"FOR-loop result: \" + str(eg1_for(matrix)))\n",
    "print (\"List Comprehension result      : \" + str(eg1_lc(matrix)))"
   ]
  },
  {
   "cell_type": "markdown",
   "metadata": {},
   "source": [
    "Example 2: Removing vowels from a sentence\n",
    "\n",
    "Aim: Take a string as input and return a string with vowels removed."
   ]
  },
  {
   "cell_type": "code",
   "execution_count": 53,
   "metadata": {},
   "outputs": [
    {
     "name": "stdout",
     "output_type": "stream",
     "text": [
      "FOR-loop result: My nm s AI Strdys!\n",
      "List Comprehension result      : My nm s AI Strdys!\n"
     ]
    }
   ],
   "source": [
    "#Python codes with FOR-loop and LC implementations:\n",
    "\n",
    "def eg2_for(sentence):\n",
    "    vowels = 'aeiou'\n",
    "    filtered_list = []\n",
    "    for l in sentence:\n",
    "        if l not in vowels:\n",
    "            filtered_list.append(l)\n",
    "    return ''.join(filtered_list)\n",
    "\n",
    "def eg2_lc(sentence):\n",
    "    vowels = 'aeiou'\n",
    "    return ''.join([ l for l in sentence if l not in vowels])\n",
    "\n",
    "#Let’s define a matrix and test the results:\n",
    "\n",
    "sentence = 'My name is AI Saturdays!'\n",
    "print (\"FOR-loop result: \" + eg2_for(sentence))\n",
    "print (\"List Comprehension result      : \" + eg2_lc(sentence))"
   ]
  },
  {
   "cell_type": "markdown",
   "metadata": {},
   "source": [
    "xample 3: Dictionary Comprehension\n",
    "\n",
    "Aim: Take two list of same length as input and return a dictionary with one as keys and other as values."
   ]
  },
  {
   "cell_type": "code",
   "execution_count": 54,
   "metadata": {},
   "outputs": [
    {
     "name": "stdout",
     "output_type": "stream",
     "text": [
      "FOR-loop result: {'India': 'New Delhi', 'Pakistan': 'Islamabad', 'Nepal': 'Kathmandu', 'Bhutan': 'Thimphu', 'China': 'Beijing', 'Bangladesh': 'Dhaka'}\n",
      "List Comprehension result      : {'India': 'New Delhi', 'Pakistan': 'Islamabad', 'Nepal': 'Kathmandu', 'Bhutan': 'Thimphu', 'China': 'Beijing', 'Bangladesh': 'Dhaka'}\n"
     ]
    }
   ],
   "source": [
    "#Python codes with FOR-loop and LC implementations:\n",
    "\n",
    "def eg3_for(keys, values):\n",
    "    dic = {}\n",
    "    for i in range(len(keys)):\n",
    "        dic[keys[i]] = values[i]\n",
    "    return dic\n",
    "\n",
    "def eg3_lc(keys, values):\n",
    "    return { keys[i] : values[i] for i in range(len(keys)) }\n",
    "\n",
    "#Let’s define a matrix and test the results:\n",
    "\n",
    "country = ['India', 'Pakistan', 'Nepal', 'Bhutan', 'China', 'Bangladesh']\n",
    "capital = ['New Delhi', 'Islamabad','Kathmandu', 'Thimphu', 'Beijing', 'Dhaka']\n",
    "print (\"FOR-loop result: \" + str(eg3_for(country, capital)))\n",
    "print (\"List Comprehension result      : \" + str(eg3_lc(country, capital)))"
   ]
  },
  {
   "cell_type": "code",
   "execution_count": 55,
   "metadata": {},
   "outputs": [],
   "source": [
    "#I believe things are getting pretty much self-explanatory by now. "
   ]
  },
  {
   "cell_type": "code",
   "execution_count": null,
   "metadata": {},
   "outputs": [],
   "source": []
  }
 ],
 "metadata": {
  "kernelspec": {
   "display_name": "Python 3",
   "language": "python",
   "name": "python3"
  },
  "language_info": {
   "codemirror_mode": {
    "name": "ipython",
    "version": 3
   },
   "file_extension": ".py",
   "mimetype": "text/x-python",
   "name": "python",
   "nbconvert_exporter": "python",
   "pygments_lexer": "ipython3",
   "version": "3.6.3"
  }
 },
 "nbformat": 4,
 "nbformat_minor": 1
}
