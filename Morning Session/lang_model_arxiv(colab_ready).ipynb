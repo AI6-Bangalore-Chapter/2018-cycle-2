{
  "nbformat": 4,
  "nbformat_minor": 0,
  "metadata": {
    "colab": {
      "name": "lang_model-arxiv-proper.ipynb",
      "version": "0.3.2",
      "provenance": [],
      "collapsed_sections": []
    },
    "kernelspec": {
      "name": "python3",
      "display_name": "Python 3"
    },
    "accelerator": "GPU"
  },
  "cells": [
    {
      "metadata": {
        "id": "xUsDyubAm6eG",
        "colab_type": "code",
        "colab": {
          "base_uri": "https://localhost:8080/",
          "height": 269
        },
        "outputId": "1b8d21ff-8560-4d11-a8a6-746f6b7796d1"
      },
      "cell_type": "code",
      "source": [
        "!pip uninstall torch -y\n",
        "!pip install http://download.pytorch.org/whl/cu80/torch-0.3.1-cp36-cp36m-linux_x86_64.whl  && pip install torchvision"
      ],
      "execution_count": 1,
      "outputs": [
        {
          "output_type": "stream",
          "text": [
            "Uninstalling torch-0.3.1:\n",
            "  Successfully uninstalled torch-0.3.1\n",
            "Collecting torch==0.3.1 from http://download.pytorch.org/whl/cu80/torch-0.3.1-cp36-cp36m-linux_x86_64.whl\n",
            "\u001b[?25l  Downloading http://download.pytorch.org/whl/cu80/torch-0.3.1-cp36-cp36m-linux_x86_64.whl (496.4MB)\n",
            "\u001b[K    100% |████████████████████████████████| 496.4MB 41.0MB/s \n",
            "\u001b[?25hRequirement already satisfied: pyyaml in /usr/local/lib/python3.6/dist-packages (from torch==0.3.1) (3.13)\n",
            "Requirement already satisfied: numpy in /usr/local/lib/python3.6/dist-packages (from torch==0.3.1) (1.14.6)\n",
            "Installing collected packages: torch\n",
            "Successfully installed torch-0.3.1\n",
            "Requirement already satisfied: torchvision in /usr/local/lib/python3.6/dist-packages (0.2.1)\n",
            "Requirement already satisfied: numpy in /usr/local/lib/python3.6/dist-packages (from torchvision) (1.14.6)\n",
            "Requirement already satisfied: six in /usr/local/lib/python3.6/dist-packages (from torchvision) (1.11.0)\n",
            "Requirement already satisfied: pillow>=4.1.1 in /usr/local/lib/python3.6/dist-packages (from torchvision) (5.3.0)\n",
            "Requirement already satisfied: torch in /usr/local/lib/python3.6/dist-packages (from torchvision) (0.3.1)\n",
            "Requirement already satisfied: pyyaml in /usr/local/lib/python3.6/dist-packages (from torch->torchvision) (3.13)\n"
          ],
          "name": "stdout"
        }
      ]
    },
    {
      "metadata": {
        "id": "-Y9X5oBWm8Yk",
        "colab_type": "code",
        "colab": {
          "base_uri": "https://localhost:8080/",
          "height": 2019
        },
        "outputId": "8c73a2d1-3520-4469-f090-017670ee5145"
      },
      "cell_type": "code",
      "source": [
        "!pip install git+https://github.com/fastai/fastai@2e1ccb58121dc648751e2109fc0fbf6925aa8887\n",
        "!apt update && apt install -y libsm6 libxext6"
      ],
      "execution_count": 2,
      "outputs": [
        {
          "output_type": "stream",
          "text": [
            "Collecting git+https://github.com/fastai/fastai@2e1ccb58121dc648751e2109fc0fbf6925aa8887\n",
            "  Cloning https://github.com/fastai/fastai (to revision 2e1ccb58121dc648751e2109fc0fbf6925aa8887) to /tmp/pip-req-build-81f76pao\n",
            "Requirement already satisfied (use --upgrade to upgrade): fastai==0.7.0 from git+https://github.com/fastai/fastai@2e1ccb58121dc648751e2109fc0fbf6925aa8887 in /usr/local/lib/python3.6/dist-packages\n",
            "Requirement already satisfied: bcolz in /usr/local/lib/python3.6/dist-packages (from fastai==0.7.0) (1.2.1)\n",
            "Requirement already satisfied: bleach in /usr/local/lib/python3.6/dist-packages (from fastai==0.7.0) (2.1.4)\n",
            "Requirement already satisfied: certifi in /usr/local/lib/python3.6/dist-packages (from fastai==0.7.0) (2018.8.24)\n",
            "Requirement already satisfied: cycler in /usr/local/lib/python3.6/dist-packages (from fastai==0.7.0) (0.10.0)\n",
            "Requirement already satisfied: decorator in /usr/local/lib/python3.6/dist-packages (from fastai==0.7.0) (4.3.0)\n",
            "Requirement already satisfied: entrypoints in /usr/local/lib/python3.6/dist-packages (from fastai==0.7.0) (0.2.3)\n",
            "Requirement already satisfied: feather-format in /usr/local/lib/python3.6/dist-packages (from fastai==0.7.0) (0.4.0)\n",
            "Requirement already satisfied: graphviz in /usr/local/lib/python3.6/dist-packages (from fastai==0.7.0) (0.9)\n",
            "Requirement already satisfied: html5lib in /usr/local/lib/python3.6/dist-packages (from fastai==0.7.0) (1.0.1)\n",
            "Requirement already satisfied: ipykernel in /usr/local/lib/python3.6/dist-packages (from fastai==0.7.0) (4.6.1)\n",
            "Requirement already satisfied: ipython in /usr/local/lib/python3.6/dist-packages (from fastai==0.7.0) (5.5.0)\n",
            "Requirement already satisfied: ipython-genutils in /usr/local/lib/python3.6/dist-packages (from fastai==0.7.0) (0.2.0)\n",
            "Requirement already satisfied: ipywidgets in /usr/local/lib/python3.6/dist-packages (from fastai==0.7.0) (7.4.2)\n",
            "Requirement already satisfied: isoweek in /usr/local/lib/python3.6/dist-packages (from fastai==0.7.0) (1.3.3)\n",
            "Requirement already satisfied: jedi in /usr/local/lib/python3.6/dist-packages (from fastai==0.7.0) (0.13.1)\n",
            "Requirement already satisfied: Jinja2 in /usr/local/lib/python3.6/dist-packages (from fastai==0.7.0) (2.10)\n",
            "Requirement already satisfied: jsonschema in /usr/local/lib/python3.6/dist-packages (from fastai==0.7.0) (2.6.0)\n",
            "Requirement already satisfied: jupyter in /usr/local/lib/python3.6/dist-packages (from fastai==0.7.0) (1.0.0)\n",
            "Requirement already satisfied: MarkupSafe in /usr/local/lib/python3.6/dist-packages (from fastai==0.7.0) (1.0)\n",
            "Requirement already satisfied: matplotlib in /usr/local/lib/python3.6/dist-packages (from fastai==0.7.0) (2.1.2)\n",
            "Requirement already satisfied: numpy in /usr/local/lib/python3.6/dist-packages (from fastai==0.7.0) (1.14.6)\n",
            "Requirement already satisfied: opencv-python in /usr/local/lib/python3.6/dist-packages (from fastai==0.7.0) (3.4.3.18)\n",
            "Requirement already satisfied: pandas in /usr/local/lib/python3.6/dist-packages (from fastai==0.7.0) (0.22.0)\n",
            "Requirement already satisfied: pandas_summary in /usr/local/lib/python3.6/dist-packages (from fastai==0.7.0) (0.0.5)\n",
            "Requirement already satisfied: pickleshare in /usr/local/lib/python3.6/dist-packages (from fastai==0.7.0) (0.7.5)\n",
            "Requirement already satisfied: Pillow in /usr/local/lib/python3.6/dist-packages (from fastai==0.7.0) (5.3.0)\n",
            "Requirement already satisfied: plotnine in /usr/local/lib/python3.6/dist-packages (from fastai==0.7.0) (0.4.0)\n",
            "Requirement already satisfied: ptyprocess in /usr/local/lib/python3.6/dist-packages (from fastai==0.7.0) (0.6.0)\n",
            "Requirement already satisfied: Pygments in /usr/local/lib/python3.6/dist-packages (from fastai==0.7.0) (2.1.3)\n",
            "Requirement already satisfied: pyparsing in /usr/local/lib/python3.6/dist-packages (from fastai==0.7.0) (2.2.1)\n",
            "Requirement already satisfied: python-dateutil in /usr/local/lib/python3.6/dist-packages (from fastai==0.7.0) (2.5.3)\n",
            "Requirement already satisfied: pytz in /usr/local/lib/python3.6/dist-packages (from fastai==0.7.0) (2018.5)\n",
            "Requirement already satisfied: PyYAML in /usr/local/lib/python3.6/dist-packages (from fastai==0.7.0) (3.13)\n",
            "Requirement already satisfied: pyzmq in /usr/local/lib/python3.6/dist-packages (from fastai==0.7.0) (16.0.4)\n",
            "Requirement already satisfied: scipy in /usr/local/lib/python3.6/dist-packages (from fastai==0.7.0) (0.19.1)\n",
            "Requirement already satisfied: seaborn in /usr/local/lib/python3.6/dist-packages (from fastai==0.7.0) (0.7.1)\n",
            "Requirement already satisfied: simplegeneric in /usr/local/lib/python3.6/dist-packages (from fastai==0.7.0) (0.8.1)\n",
            "Requirement already satisfied: sklearn_pandas in /usr/local/lib/python3.6/dist-packages (from fastai==0.7.0) (1.7.0)\n",
            "Requirement already satisfied: spacy in /usr/local/lib/python3.6/dist-packages (from fastai==0.7.0) (2.0.12)\n",
            "Requirement already satisfied: testpath in /usr/local/lib/python3.6/dist-packages (from fastai==0.7.0) (0.4.1)\n",
            "Requirement already satisfied: torch<0.4 in /usr/local/lib/python3.6/dist-packages (from fastai==0.7.0) (0.3.1)\n",
            "Requirement already satisfied: torchtext in /usr/local/lib/python3.6/dist-packages (from fastai==0.7.0) (0.2.3)\n",
            "Requirement already satisfied: torchvision in /usr/local/lib/python3.6/dist-packages (from fastai==0.7.0) (0.2.1)\n",
            "Requirement already satisfied: tornado in /usr/local/lib/python3.6/dist-packages (from fastai==0.7.0) (4.5.3)\n",
            "Requirement already satisfied: tqdm in /usr/local/lib/python3.6/dist-packages (from fastai==0.7.0) (4.26.0)\n",
            "Requirement already satisfied: traitlets in /usr/local/lib/python3.6/dist-packages (from fastai==0.7.0) (4.3.2)\n",
            "Requirement already satisfied: wcwidth in /usr/local/lib/python3.6/dist-packages (from fastai==0.7.0) (0.1.7)\n",
            "Requirement already satisfied: webencodings in /usr/local/lib/python3.6/dist-packages (from fastai==0.7.0) (0.5.1)\n",
            "Requirement already satisfied: widgetsnbextension in /usr/local/lib/python3.6/dist-packages (from fastai==0.7.0) (3.4.2)\n",
            "Requirement already satisfied: six in /usr/local/lib/python3.6/dist-packages (from bleach->fastai==0.7.0) (1.11.0)\n",
            "Requirement already satisfied: pyarrow>=0.4.0 in /usr/local/lib/python3.6/dist-packages (from feather-format->fastai==0.7.0) (0.10.0)\n",
            "Requirement already satisfied: jupyter-client in /usr/local/lib/python3.6/dist-packages (from ipykernel->fastai==0.7.0) (5.2.3)\n",
            "Requirement already satisfied: setuptools>=18.5 in /usr/local/lib/python3.6/dist-packages (from ipython->fastai==0.7.0) (39.1.0)\n",
            "Requirement already satisfied: prompt-toolkit<2.0.0,>=1.0.4 in /usr/local/lib/python3.6/dist-packages (from ipython->fastai==0.7.0) (1.0.15)\n",
            "Requirement already satisfied: pexpect; sys_platform != \"win32\" in /usr/local/lib/python3.6/dist-packages (from ipython->fastai==0.7.0) (4.6.0)\n",
            "Requirement already satisfied: nbformat>=4.2.0 in /usr/local/lib/python3.6/dist-packages (from ipywidgets->fastai==0.7.0) (4.4.0)\n",
            "Requirement already satisfied: parso>=0.3.0 in /usr/local/lib/python3.6/dist-packages (from jedi->fastai==0.7.0) (0.3.1)\n",
            "Requirement already satisfied: notebook in /usr/local/lib/python3.6/dist-packages (from jupyter->fastai==0.7.0) (5.2.2)\n",
            "Requirement already satisfied: jupyter-console in /usr/local/lib/python3.6/dist-packages (from jupyter->fastai==0.7.0) (6.0.0)\n",
            "Requirement already satisfied: nbconvert in /usr/local/lib/python3.6/dist-packages (from jupyter->fastai==0.7.0) (5.4.0)\n",
            "Requirement already satisfied: qtconsole in /usr/local/lib/python3.6/dist-packages (from jupyter->fastai==0.7.0) (4.4.1)\n",
            "Requirement already satisfied: mizani>=0.4.5 in /usr/local/lib/python3.6/dist-packages (from plotnine->fastai==0.7.0) (0.4.6)\n",
            "Requirement already satisfied: geopandas>=0.3.0 in /usr/local/lib/python3.6/dist-packages (from plotnine->fastai==0.7.0) (0.4.0)\n",
            "Requirement already satisfied: statsmodels>=0.8.0 in /usr/local/lib/python3.6/dist-packages (from plotnine->fastai==0.7.0) (0.8.0)\n",
            "Requirement already satisfied: patsy>=0.4.1 in /usr/local/lib/python3.6/dist-packages (from plotnine->fastai==0.7.0) (0.5.0)\n",
            "Requirement already satisfied: descartes>=1.1.0 in /usr/local/lib/python3.6/dist-packages (from plotnine->fastai==0.7.0) (1.1.0)\n",
            "Requirement already satisfied: scikit-learn>=0.15.0 in /usr/local/lib/python3.6/dist-packages (from sklearn_pandas->fastai==0.7.0) (0.19.2)\n",
            "Requirement already satisfied: murmurhash<0.29,>=0.28 in /usr/local/lib/python3.6/dist-packages (from spacy->fastai==0.7.0) (0.28.0)\n",
            "Requirement already satisfied: cymem<1.32,>=1.30 in /usr/local/lib/python3.6/dist-packages (from spacy->fastai==0.7.0) (1.31.2)\n",
            "Requirement already satisfied: preshed<2.0.0,>=1.0.0 in /usr/local/lib/python3.6/dist-packages (from spacy->fastai==0.7.0) (1.0.1)\n",
            "Requirement already satisfied: thinc<6.11.0,>=6.10.3 in /usr/local/lib/python3.6/dist-packages (from spacy->fastai==0.7.0) (6.10.3)\n",
            "Requirement already satisfied: plac<1.0.0,>=0.9.6 in /usr/local/lib/python3.6/dist-packages (from spacy->fastai==0.7.0) (0.9.6)\n",
            "Requirement already satisfied: ujson>=1.35 in /usr/local/lib/python3.6/dist-packages (from spacy->fastai==0.7.0) (1.35)\n",
            "Requirement already satisfied: dill<0.3,>=0.2 in /usr/local/lib/python3.6/dist-packages (from spacy->fastai==0.7.0) (0.2.8.2)\n",
            "Requirement already satisfied: regex==2017.4.5 in /usr/local/lib/python3.6/dist-packages (from spacy->fastai==0.7.0) (2017.4.5)\n",
            "Requirement already satisfied: requests<3.0.0,>=2.13.0 in /usr/local/lib/python3.6/dist-packages (from spacy->fastai==0.7.0) (2.18.4)\n",
            "Requirement already satisfied: jupyter-core in /usr/local/lib/python3.6/dist-packages (from jupyter-client->ipykernel->fastai==0.7.0) (4.4.0)\n",
            "Requirement already satisfied: terminado>=0.3.3; sys_platform != \"win32\" in /usr/local/lib/python3.6/dist-packages (from notebook->jupyter->fastai==0.7.0) (0.8.1)\n",
            "Requirement already satisfied: pandocfilters>=1.4.1 in /usr/local/lib/python3.6/dist-packages (from nbconvert->jupyter->fastai==0.7.0) (1.4.2)\n",
            "Requirement already satisfied: defusedxml in /usr/local/lib/python3.6/dist-packages (from nbconvert->jupyter->fastai==0.7.0) (0.5.0)\n",
            "Requirement already satisfied: mistune>=0.8.1 in /usr/local/lib/python3.6/dist-packages (from nbconvert->jupyter->fastai==0.7.0) (0.8.3)\n",
            "Requirement already satisfied: palettable in /usr/local/lib/python3.6/dist-packages (from mizani>=0.4.5->plotnine->fastai==0.7.0) (3.1.1)\n",
            "Requirement already satisfied: shapely in /usr/local/lib/python3.6/dist-packages (from geopandas>=0.3.0->plotnine->fastai==0.7.0) (1.6.4.post2)\n",
            "Requirement already satisfied: pyproj in /usr/local/lib/python3.6/dist-packages (from geopandas>=0.3.0->plotnine->fastai==0.7.0) (1.9.5.1)\n",
            "Requirement already satisfied: fiona in /usr/local/lib/python3.6/dist-packages (from geopandas>=0.3.0->plotnine->fastai==0.7.0) (1.7.13)\n",
            "Requirement already satisfied: msgpack<1.0.0,>=0.5.6 in /usr/local/lib/python3.6/dist-packages (from thinc<6.11.0,>=6.10.3->spacy->fastai==0.7.0) (0.5.6)\n",
            "Requirement already satisfied: msgpack-numpy<1.0.0,>=0.4.1 in /usr/local/lib/python3.6/dist-packages (from thinc<6.11.0,>=6.10.3->spacy->fastai==0.7.0) (0.4.4.1)\n",
            "Requirement already satisfied: cytoolz<0.10,>=0.9.0 in /usr/local/lib/python3.6/dist-packages (from thinc<6.11.0,>=6.10.3->spacy->fastai==0.7.0) (0.9.0.1)\n",
            "Requirement already satisfied: wrapt<1.11.0,>=1.10.0 in /usr/local/lib/python3.6/dist-packages (from thinc<6.11.0,>=6.10.3->spacy->fastai==0.7.0) (1.10.11)\n",
            "Requirement already satisfied: chardet<3.1.0,>=3.0.2 in /usr/local/lib/python3.6/dist-packages (from requests<3.0.0,>=2.13.0->spacy->fastai==0.7.0) (3.0.4)\n",
            "Requirement already satisfied: idna<2.7,>=2.5 in /usr/local/lib/python3.6/dist-packages (from requests<3.0.0,>=2.13.0->spacy->fastai==0.7.0) (2.6)\n",
            "Requirement already satisfied: urllib3<1.23,>=1.21.1 in /usr/local/lib/python3.6/dist-packages (from requests<3.0.0,>=2.13.0->spacy->fastai==0.7.0) (1.22)\n",
            "Requirement already satisfied: click-plugins in /usr/local/lib/python3.6/dist-packages (from fiona->geopandas>=0.3.0->plotnine->fastai==0.7.0) (1.0.4)\n",
            "Requirement already satisfied: munch in /usr/local/lib/python3.6/dist-packages (from fiona->geopandas>=0.3.0->plotnine->fastai==0.7.0) (2.3.2)\n",
            "Requirement already satisfied: cligj>=0.4 in /usr/local/lib/python3.6/dist-packages (from fiona->geopandas>=0.3.0->plotnine->fastai==0.7.0) (0.5.0)\n",
            "Requirement already satisfied: toolz>=0.8.0 in /usr/local/lib/python3.6/dist-packages (from cytoolz<0.10,>=0.9.0->thinc<6.11.0,>=6.10.3->spacy->fastai==0.7.0) (0.9.0)\n",
            "Requirement already satisfied: click>=3.0 in /usr/local/lib/python3.6/dist-packages (from click-plugins->fiona->geopandas>=0.3.0->plotnine->fastai==0.7.0) (7.0)\n",
            "Building wheels for collected packages: fastai\n",
            "  Running setup.py bdist_wheel for fastai ... \u001b[?25l-\b \b\\\b \b|\b \bdone\n",
            "\u001b[?25h  Stored in directory: /tmp/pip-ephem-wheel-cache-b7jwv1qp/wheels/25/e9/9b/223e47f59c39f0bd393733db0f7efe8ec6f078d29c32198f9f\n",
            "Successfully built fastai\n",
            "Hit:1 http://archive.ubuntu.com/ubuntu artful InRelease\n",
            "Hit:2 http://archive.ubuntu.com/ubuntu artful-updates InRelease\n",
            "Hit:3 http://archive.ubuntu.com/ubuntu artful-backports InRelease\n",
            "Hit:4 http://security.ubuntu.com/ubuntu artful-security InRelease\n",
            "Reading package lists... Done\n",
            "Building dependency tree       \n",
            "Reading state information... Done\n",
            "All packages are up to date.\n",
            "Reading package lists... Done\n",
            "Building dependency tree       \n",
            "Reading state information... Done\n",
            "libsm6 is already the newest version (2:1.2.2-1).\n",
            "libxext6 is already the newest version (2:1.3.3-1).\n",
            "0 upgraded, 0 newly installed, 0 to remove and 0 not upgraded.\n"
          ],
          "name": "stdout"
        }
      ]
    },
    {
      "metadata": {
        "id": "dI33Xmsim8hb",
        "colab_type": "code",
        "colab": {
          "base_uri": "https://localhost:8080/",
          "height": 34
        },
        "outputId": "cc58dc59-8acb-40aa-883d-fb7346f86320"
      },
      "cell_type": "code",
      "source": [
        "!pip install feedparser"
      ],
      "execution_count": 3,
      "outputs": [
        {
          "output_type": "stream",
          "text": [
            "Requirement already satisfied: feedparser in /usr/local/lib/python3.6/dist-packages (5.2.1)\n"
          ],
          "name": "stdout"
        }
      ]
    },
    {
      "metadata": {
        "id": "0SHsECLqokHc",
        "colab_type": "code",
        "colab": {
          "base_uri": "https://localhost:8080/",
          "height": 34
        },
        "outputId": "028c4b86-feb1-4677-e2f0-7a4f862ba2dc"
      },
      "cell_type": "code",
      "source": [
        "import tensorflow as tf\n",
        "tf.test.gpu_device_name()"
      ],
      "execution_count": 6,
      "outputs": [
        {
          "output_type": "execute_result",
          "data": {
            "text/plain": [
              "'/device:GPU:0'"
            ]
          },
          "metadata": {
            "tags": []
          },
          "execution_count": 6
        }
      ]
    },
    {
      "metadata": {
        "id": "mdLArOVem8rF",
        "colab_type": "code",
        "colab": {
          "base_uri": "https://localhost:8080/",
          "height": 168
        },
        "outputId": "66d7bf3a-5361-44da-cae5-919e6f82ab98"
      },
      "cell_type": "code",
      "source": [
        "!echo \"Hard drive info\\n===========================\"\n",
        "!df -H /\n",
        "!echo \"\\nRAM info\\n===========================\"\n",
        "!free -h\n",
        "!echo \"\\nVM User info\\n===========================\"\n",
        "!whoami"
      ],
      "execution_count": 4,
      "outputs": [
        {
          "output_type": "stream",
          "text": [
            "Hard drive info\\n===========================\n",
            "Filesystem      Size  Used Avail Use% Mounted on\n",
            "overlay         385G   13G  353G   4% /\n",
            "\\nRAM info\\n===========================\n",
            "              total        used        free      shared  buff/cache   available\n",
            "Mem:            12G        929M        735M        251M         11G         11G\n",
            "Swap:            0B          0B          0B\n",
            "\\nVM User info\\n===========================\n",
            "root\n"
          ],
          "name": "stdout"
        }
      ]
    },
    {
      "metadata": {
        "id": "cT4f3XEnm5LS",
        "colab_type": "code",
        "colab": {}
      },
      "cell_type": "code",
      "source": [
        "%reload_ext autoreload\n",
        "%autoreload 2\n",
        "%matplotlib inline\n",
        "\n",
        "from fastai.model import fit\n",
        "from fastai.dataset import *\n",
        "\n",
        "import torchtext\n",
        "from torchtext import vocab, data\n",
        "from torchtext.datasets import language_modeling\n",
        "\n",
        "from fastai.rnn_reg import *\n",
        "from fastai.rnn_train import *\n",
        "from fastai.nlp import *\n",
        "from fastai.lm_rnn import *\n",
        "\n",
        "import dill as pickle\n",
        "import random"
      ],
      "execution_count": 0,
      "outputs": []
    },
    {
      "metadata": {
        "id": "n-memw9am5LY",
        "colab_type": "code",
        "colab": {}
      },
      "cell_type": "code",
      "source": [
        "bs,bptt = 64,70"
      ],
      "execution_count": 0,
      "outputs": []
    },
    {
      "metadata": {
        "id": "WYalYzxdm5Lc",
        "colab_type": "text"
      },
      "cell_type": "markdown",
      "source": [
        "## Language modeling"
      ]
    },
    {
      "metadata": {
        "id": "7qivF3eFm5Ld",
        "colab_type": "text"
      },
      "cell_type": "markdown",
      "source": [
        "### Data"
      ]
    },
    {
      "metadata": {
        "id": "KJlMOxMom5Lf",
        "colab_type": "code",
        "colab": {}
      },
      "cell_type": "code",
      "source": [
        "import os, requests, time\n",
        "# feedparser isn't a fastai dependency so you may need to install it.\n",
        "import feedparser\n",
        "import pandas as pd\n",
        "\n",
        "\n",
        "class GetArXiv(object):\n",
        "    def __init__(self, pickle_path, categories=list()):\n",
        "        \"\"\"\n",
        "        :param pickle_path (str): path to pickle data file to save/load\n",
        "        :param pickle_name (str): file name to save pickle to path\n",
        "        :param categories (list): arXiv categories to query\n",
        "        \"\"\"\n",
        "        if os.path.isdir(pickle_path):\n",
        "            pickle_path = f\"{pickle_path}{'' if pickle_path[-1] == '/' else '/'}all_arxiv.pkl\"\n",
        "        if len(categories) < 1:\n",
        "            categories = ['cs*', 'cond-mat.dis-nn', 'q-bio.NC', 'stat.CO', 'stat.ML']\n",
        "        # categories += ['cs.CV', 'cs.AI', 'cs.LG', 'cs.CL']\n",
        "\n",
        "        self.categories = categories\n",
        "        self.pickle_path = pickle_path\n",
        "        self.base_url = 'http://export.arxiv.org/api/query'\n",
        "\n",
        "    @staticmethod\n",
        "    def build_qs(categories):\n",
        "        \"\"\"Build query string from categories\"\"\"\n",
        "        return '+OR+'.join(['cat:'+c for c in categories])\n",
        "\n",
        "    @staticmethod\n",
        "    def get_entry_dict(entry):\n",
        "        \"\"\"Return a dictionary with the items we want from a feedparser entry\"\"\"\n",
        "        try:\n",
        "            return dict(title=entry['title'], authors=[a['name'] for a in entry['authors']],\n",
        "                        published=pd.Timestamp(entry['published']), summary=entry['summary'],\n",
        "                        link=entry['link'], category=entry['category'])\n",
        "        except KeyError:\n",
        "            print('Missing keys in row: {}'.format(entry))\n",
        "            return None\n",
        "\n",
        "    @staticmethod\n",
        "    def strip_version(link):\n",
        "        \"\"\"Strip version number from arXiv paper link\"\"\"\n",
        "        return link[:-2]\n",
        "\n",
        "    def fetch_updated_data(self, max_retry=5, pg_offset=0, pg_size=1000, wait_time=15):\n",
        "        \"\"\"\n",
        "        Get new papers from arXiv server\n",
        "        :param max_retry: max number of time to retry request\n",
        "        :param pg_offset: number of pages to offset\n",
        "        :param pg_size: num abstracts to fetch per request\n",
        "        :param wait_time: num seconds to wait between requests\n",
        "        \"\"\"\n",
        "        i, retry = pg_offset, 0\n",
        "        df = pd.DataFrame()\n",
        "        past_links = []\n",
        "        if os.path.isfile(self.pickle_path):\n",
        "            df = pd.read_pickle(self.pickle_path)\n",
        "            df.reset_index()\n",
        "        if len(df) > 0: past_links = df.link.apply(self.strip_version)\n",
        "\n",
        "        while True:\n",
        "            params = dict(search_query=self.build_qs(self.categories),\n",
        "                          sortBy='submittedDate', start=pg_size*i, max_results=pg_size)\n",
        "            response = requests.get(self.base_url, params='&'.join([f'{k}={v}' for k, v in params.items()]))\n",
        "            entries = feedparser.parse(response.text).entries\n",
        "            if len(entries) < 1:\n",
        "                if retry < max_retry:\n",
        "                    retry += 1\n",
        "                    time.sleep(wait_time)\n",
        "                    continue\n",
        "                break\n",
        "\n",
        "            results_df = pd.DataFrame([self.get_entry_dict(e) for e in entries])\n",
        "            max_date = results_df.published.max().date()\n",
        "            new_links = ~results_df.link.apply(self.strip_version).isin(past_links)\n",
        "            print(f'{i}. Fetched {len(results_df)} abstracts published {max_date} and earlier')\n",
        "            if not new_links.any():\n",
        "                break\n",
        "\n",
        "            df = pd.concat((df, results_df.loc[new_links]), ignore_index=True)\n",
        "            i += 1\n",
        "            retry = 0\n",
        "            time.sleep(wait_time)\n",
        "\n",
        "        print(f'Downloaded {len(df)-len(past_links)} new abstracts')\n",
        "        df.sort_values('published', ascending=False).groupby('link').first().reset_index()\n",
        "        df.to_pickle(self.pickle_path)\n",
        "        return df\n",
        "\n",
        "    @classmethod\n",
        "    def load(cls, pickle_path):\n",
        "        \"\"\"Load data from pickle and remove duplicates\"\"\"\n",
        "        return pd.read_pickle(cls(pickle_path).pickle_path)\n",
        "\n",
        "    @classmethod\n",
        "    def update(cls, pickle_path, categories=list(), **kwargs):\n",
        "        \"\"\"\n",
        "        Update arXiv data pickle with the latest abstracts\n",
        "        \"\"\"\n",
        "        cls(pickle_path, categories).fetch_updated_data(**kwargs)\n",
        "        return True"
      ],
      "execution_count": 0,
      "outputs": []
    },
    {
      "metadata": {
        "id": "wsdqj_KYs6KR",
        "colab_type": "code",
        "colab": {
          "base_uri": "https://localhost:8080/",
          "height": 50
        },
        "outputId": "2a9dc7db-e1a8-4905-95f2-f415c7af8384"
      },
      "cell_type": "code",
      "source": [
        "!mkdir data\n",
        "!cd data && mkdir arxiv\n",
        "!ls\n",
        "!cd data && ls"
      ],
      "execution_count": 13,
      "outputs": [
        {
          "output_type": "stream",
          "text": [
            "data  sample_data\n",
            "arxiv\n"
          ],
          "name": "stdout"
        }
      ]
    },
    {
      "metadata": {
        "id": "qpICS0W4wUVj",
        "colab_type": "code",
        "colab": {
          "resources": {
            "http://localhost:8080/nbextensions/google.colab/files.js": {
              "data": "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",
              "ok": true,
              "headers": [
                [
                  "content-type",
                  "application/javascript"
                ]
              ],
              "status": 200,
              "status_text": ""
            }
          },
          "base_uri": "https://localhost:8080/",
          "height": 73
        },
        "outputId": "d77dd764-6eb9-4eb5-fbe8-8663baad1ed2"
      },
      "cell_type": "code",
      "source": [
        "from google.colab import files\n",
        "uploaded = files.upload()"
      ],
      "execution_count": 15,
      "outputs": [
        {
          "output_type": "display_data",
          "data": {
            "text/html": [
              "\n",
              "     <input type=\"file\" id=\"files-7a5f89d8-0d1f-4907-8f0c-1c2cf77fc66f\" name=\"files[]\" multiple disabled />\n",
              "     <output id=\"result-7a5f89d8-0d1f-4907-8f0c-1c2cf77fc66f\">\n",
              "      Upload widget is only available when the cell has been executed in the\n",
              "      current browser session. Please rerun this cell to enable.\n",
              "      </output>\n",
              "      <script src=\"/nbextensions/google.colab/files.js\"></script> "
            ],
            "text/plain": [
              "<IPython.core.display.HTML object>"
            ]
          },
          "metadata": {
            "tags": []
          }
        },
        {
          "output_type": "stream",
          "text": [
            "Saving arxiv.csv to arxiv.csv\n"
          ],
          "name": "stdout"
        }
      ]
    },
    {
      "metadata": {
        "id": "mMiRMj1-5pCZ",
        "colab_type": "code",
        "colab": {}
      },
      "cell_type": "code",
      "source": [
        "!mv arxiv.csv data/arxiv/"
      ],
      "execution_count": 0,
      "outputs": []
    },
    {
      "metadata": {
        "id": "fxTfWizu5-tR",
        "colab_type": "code",
        "colab": {
          "base_uri": "https://localhost:8080/",
          "height": 34
        },
        "outputId": "037e56cf-9db3-47d1-eb71-73dbe71e768a"
      },
      "cell_type": "code",
      "source": [
        "!cd data/arxiv && ls"
      ],
      "execution_count": 18,
      "outputs": [
        {
          "output_type": "stream",
          "text": [
            "arxiv.csv\n"
          ],
          "name": "stdout"
        }
      ]
    },
    {
      "metadata": {
        "id": "X5UfDV4am5Lj",
        "colab_type": "code",
        "colab": {
          "base_uri": "https://localhost:8080/",
          "height": 168
        },
        "outputId": "88d9e466-693d-43eb-e43b-15c6efa2c014"
      },
      "cell_type": "code",
      "source": [
        "PATH='data/arxiv/'\n",
        "\n",
        "ALL_ARXIV = f'{PATH}all_arxiv.pkl'\n",
        "\n",
        "# all_arxiv.pkl: if arxiv hasn't been downloaded yet, it'll take some time to get it - go get some coffee\n",
        "if not os.path.exists(ALL_ARXIV): GetArXiv.update(ALL_ARXIV)\n",
        "\n",
        "# arxiv.csv: see dl1/nlp-arxiv.ipynb to get this one\n",
        "df_mb = pd.read_csv(f'{PATH}arxiv.csv')\n",
        "df_all = pd.read_pickle(ALL_ARXIV)"
      ],
      "execution_count": 19,
      "outputs": [
        {
          "output_type": "stream",
          "text": [
            "0. Fetched 1000 abstracts published 2018-10-04 and earlier\n",
            "1. Fetched 1000 abstracts published 2018-09-26 and earlier\n",
            "2. Fetched 1000 abstracts published 2018-09-18 and earlier\n",
            "3. Fetched 1000 abstracts published 2018-09-10 and earlier\n",
            "4. Fetched 1000 abstracts published 2018-09-03 and earlier\n",
            "5. Fetched 1000 abstracts published 2018-08-25 and earlier\n",
            "6. Fetched 1000 abstracts published 2018-08-14 and earlier\n",
            "7. Fetched 1000 abstracts published 2018-08-04 and earlier\n",
            "Downloaded 8000 new abstracts\n"
          ],
          "name": "stdout"
        }
      ]
    },
    {
      "metadata": {
        "id": "bDPCy6Grm5Lo",
        "colab_type": "code",
        "colab": {
          "base_uri": "https://localhost:8080/",
          "height": 34
        },
        "outputId": "0b693e58-2ee9-43f0-8022-d71a3f1ebdb2"
      },
      "cell_type": "code",
      "source": [
        "def get_txt(df):\n",
        "    return '<CAT> ' + df.category.str.replace(r'[\\.\\-]','') + ' <SUMM> ' + df.summary + ' <TITLE> ' + df.title\n",
        "df_mb['txt'] = get_txt(df_mb)\n",
        "df_all['txt'] = get_txt(df_all)\n",
        "n=len(df_all); n"
      ],
      "execution_count": 20,
      "outputs": [
        {
          "output_type": "execute_result",
          "data": {
            "text/plain": [
              "8000"
            ]
          },
          "metadata": {
            "tags": []
          },
          "execution_count": 20
        }
      ]
    },
    {
      "metadata": {
        "id": "HG3imTJ-m5Lx",
        "colab_type": "code",
        "colab": {}
      },
      "cell_type": "code",
      "source": [
        "os.makedirs(f'{PATH}trn/yes', exist_ok=True)\n",
        "os.makedirs(f'{PATH}val/yes', exist_ok=True)\n",
        "os.makedirs(f'{PATH}trn/no', exist_ok=True)\n",
        "os.makedirs(f'{PATH}val/no', exist_ok=True)\n",
        "os.makedirs(f'{PATH}all/trn', exist_ok=True)\n",
        "os.makedirs(f'{PATH}all/val', exist_ok=True)\n",
        "os.makedirs(f'{PATH}models', exist_ok=True)"
      ],
      "execution_count": 0,
      "outputs": []
    },
    {
      "metadata": {
        "id": "Xs3yOfAUm5L3",
        "colab_type": "code",
        "colab": {}
      },
      "cell_type": "code",
      "source": [
        "for (i,(_,r)) in enumerate(df_all.iterrows()):\n",
        "    dset = 'trn' if random.random()>0.1 else 'val'\n",
        "    open(f'{PATH}all/{dset}/{i}.txt', 'w').write(r['txt'])"
      ],
      "execution_count": 0,
      "outputs": []
    },
    {
      "metadata": {
        "id": "cpaFGROem5L-",
        "colab_type": "code",
        "colab": {}
      },
      "cell_type": "code",
      "source": [
        "for (i,(_,r)) in enumerate(df_mb.iterrows()):\n",
        "    lbl = 'yes' if r.tweeted else 'no'\n",
        "    dset = 'trn' if random.random()>0.1 else 'val'\n",
        "    open(f'{PATH}{dset}/{lbl}/{i}.txt', 'w').write(r['txt'])"
      ],
      "execution_count": 0,
      "outputs": []
    },
    {
      "metadata": {
        "id": "7vKOruoT70Z1",
        "colab_type": "code",
        "colab": {
          "base_uri": "https://localhost:8080/",
          "height": 235
        },
        "outputId": "f624b512-165e-4d61-e2ed-ec99ada9b656"
      },
      "cell_type": "code",
      "source": [
        "!python -m spacy download en "
      ],
      "execution_count": 25,
      "outputs": [
        {
          "output_type": "stream",
          "text": [
            "Collecting en_core_web_sm==2.0.0 from https://github.com/explosion/spacy-models/releases/download/en_core_web_sm-2.0.0/en_core_web_sm-2.0.0.tar.gz#egg=en_core_web_sm==2.0.0\n",
            "\u001b[?25l  Downloading https://github.com/explosion/spacy-models/releases/download/en_core_web_sm-2.0.0/en_core_web_sm-2.0.0.tar.gz (37.4MB)\n",
            "\u001b[K    100% |████████████████████████████████| 37.4MB 1.1MB/s \n",
            "\u001b[?25hInstalling collected packages: en-core-web-sm\n",
            "  Running setup.py install for en-core-web-sm ... \u001b[?25l-\b \b\\\b \b|\b \bdone\n",
            "\u001b[?25hSuccessfully installed en-core-web-sm-2.0.0\n",
            "\n",
            "\u001b[93m    Linking successful\u001b[0m\n",
            "    /usr/local/lib/python3.6/dist-packages/en_core_web_sm -->\n",
            "    /usr/local/lib/python3.6/dist-packages/spacy/data/en\n",
            "\n",
            "    You can now load the model via spacy.load('en')\n",
            "\n"
          ],
          "name": "stdout"
        }
      ]
    },
    {
      "metadata": {
        "id": "nyHj4QNfm5MC",
        "colab_type": "code",
        "colab": {}
      },
      "cell_type": "code",
      "source": [
        "from spacy.symbols import ORTH\n",
        "\n",
        "# install the 'en' model if the next line of code fails by running:\n",
        "#python -m spacy download en              # default English model (~50MB)\n",
        "#python -m spacy download en_core_web_md  # larger English model (~1GB)\n",
        "my_tok = spacy.load('en')\n",
        "\n",
        "my_tok.tokenizer.add_special_case('<SUMM>', [{ORTH: '<SUMM>'}])\n",
        "my_tok.tokenizer.add_special_case('<CAT>', [{ORTH: '<CAT>'}])\n",
        "my_tok.tokenizer.add_special_case('<TITLE>', [{ORTH: '<TITLE>'}])\n",
        "my_tok.tokenizer.add_special_case('<BR />', [{ORTH: '<BR />'}])\n",
        "my_tok.tokenizer.add_special_case('<BR>', [{ORTH: '<BR>'}])\n",
        "\n",
        "def my_spacy_tok(x): return [tok.text for tok in my_tok.tokenizer(x)]"
      ],
      "execution_count": 0,
      "outputs": []
    },
    {
      "metadata": {
        "id": "e5Y18ir2m5MI",
        "colab_type": "code",
        "colab": {}
      },
      "cell_type": "code",
      "source": [
        "TEXT = data.Field(lower=True, tokenize=my_spacy_tok)\n",
        "FILES = dict(train='trn', validation='val', test='val')\n",
        "md = LanguageModelData.from_text_files(f'{PATH}all/', TEXT, **FILES, bs=bs, bptt=bptt, min_freq=10)\n",
        "pickle.dump(TEXT, open(f'{PATH}models/TEXT.pkl','wb'))"
      ],
      "execution_count": 0,
      "outputs": []
    },
    {
      "metadata": {
        "id": "wQRymtXUm5MN",
        "colab_type": "code",
        "colab": {
          "base_uri": "https://localhost:8080/",
          "height": 34
        },
        "outputId": "da3c8b4d-8b6a-49de-8491-e4e6aa9730a2"
      },
      "cell_type": "code",
      "source": [
        "len(md.trn_dl), md.nt, len(md.trn_ds), len(md.trn_ds[0].text)"
      ],
      "execution_count": 45,
      "outputs": [
        {
          "output_type": "execute_result",
          "data": {
            "text/plain": [
              "(326, 7420, 1, 1465781)"
            ]
          },
          "metadata": {
            "tags": []
          },
          "execution_count": 45
        }
      ]
    },
    {
      "metadata": {
        "id": "DWBaDHNUm5MR",
        "colab_type": "code",
        "colab": {
          "base_uri": "https://localhost:8080/",
          "height": 34
        },
        "outputId": "24f7efda-d470-448c-a322-cb8935e2ce61"
      },
      "cell_type": "code",
      "source": [
        "TEXT.vocab.itos[:12]"
      ],
      "execution_count": 46,
      "outputs": [
        {
          "output_type": "execute_result",
          "data": {
            "text/plain": [
              "['<unk>', '<pad>', 'the', ',', '.', 'of', '-', 'and', 'a', 'to', 'in', 'we']"
            ]
          },
          "metadata": {
            "tags": []
          },
          "execution_count": 46
        }
      ]
    },
    {
      "metadata": {
        "id": "BKt0HMRZm5MW",
        "colab_type": "code",
        "colab": {
          "base_uri": "https://localhost:8080/",
          "height": 54
        },
        "outputId": "bf64735d-f175-4405-e7c1-b8ca6643cb89"
      },
      "cell_type": "code",
      "source": [
        "' '.join(md.trn_ds[0].text[:150])"
      ],
      "execution_count": 47,
      "outputs": [
        {
          "output_type": "execute_result",
          "data": {
            "text/plain": [
              "'<cat> condmatmtrlsci <summ> we present example applications of an approach to first - principles calculations of vibrational properties of materials implemented within the exabyte.io platform . we deploy models based on the density functional perturbation theory to extract the phonon dispersion relations and densities of states for an example set of 35 samples and find the results to be in agreement with prior similar calculations . we construct modeling workflows that are both accessible , accurate , and efficient with respect to the human time involved . this is achieved through efficient parallelization of the tasks for the individual vibrational modes . we report achieved speedups in the 10 - 100 range , approximately , and maximum attainable speedups in the 30 - 300 range , correspondingly . we analyze the execution times on the current up - to - date computational infrastructure centrally available from a public cloud provider'"
            ]
          },
          "metadata": {
            "tags": []
          },
          "execution_count": 47
        }
      ]
    },
    {
      "metadata": {
        "id": "dLbuzrQbm5Ma",
        "colab_type": "text"
      },
      "cell_type": "markdown",
      "source": [
        "### Train"
      ]
    },
    {
      "metadata": {
        "id": "C9SAcxNUm5Mc",
        "colab_type": "code",
        "colab": {}
      },
      "cell_type": "code",
      "source": [
        "em_sz = 200\n",
        "nh = 500\n",
        "nl = 3\n",
        "opt_fn = partial(optim.Adam, betas=(0.7, 0.99))"
      ],
      "execution_count": 0,
      "outputs": []
    },
    {
      "metadata": {
        "id": "pnVD8uU2m5Mf",
        "colab_type": "code",
        "colab": {}
      },
      "cell_type": "code",
      "source": [
        "learner = md.get_model(opt_fn, em_sz, nh, nl,\n",
        "    dropout=0.05, dropouth=0.1, dropouti=0.05, dropoute=0.02, wdrop=0.2)\n",
        "# dropout=0.4, dropouth=0.3, dropouti=0.65, dropoute=0.1, wdrop=0.5\n",
        "#                dropouti=0.05, dropout=0.05, wdrop=0.1, dropoute=0.02, dropouth=0.05)\n",
        "learner.reg_fn = partial(seq2seq_reg, alpha=2, beta=1)\n",
        "learner.clip=0.3"
      ],
      "execution_count": 0,
      "outputs": []
    },
    {
      "metadata": {
        "id": "scb2oTXVm5Mk",
        "colab_type": "code",
        "colab": {
          "base_uri": "https://localhost:8080/",
          "height": 101
        },
        "outputId": "6204d6cb-928f-408b-8d09-eb291a8ce5c1"
      },
      "cell_type": "code",
      "source": [
        "learner.fit(3e-3, 1, wds=1e-6)"
      ],
      "execution_count": 54,
      "outputs": [
        {
          "output_type": "display_data",
          "data": {
            "application/vnd.jupyter.widget-view+json": {
              "model_id": "cfcbf4bfdc3f4880bbd6290bf449bc4a",
              "version_minor": 0,
              "version_major": 2
            },
            "text/plain": [
              "HBox(children=(IntProgress(value=0, description='Epoch', max=1), HTML(value='')))"
            ]
          },
          "metadata": {
            "tags": []
          }
        },
        {
          "output_type": "stream",
          "text": [
            "epoch      trn_loss   val_loss   \n",
            "    0      5.235505   5.017305  \n",
            "\n"
          ],
          "name": "stdout"
        },
        {
          "output_type": "execute_result",
          "data": {
            "text/plain": [
              "[array([5.01731])]"
            ]
          },
          "metadata": {
            "tags": []
          },
          "execution_count": 54
        }
      ]
    },
    {
      "metadata": {
        "id": "4UFEzSInm5Mr",
        "colab_type": "code",
        "colab": {
          "base_uri": "https://localhost:8080/",
          "height": 202
        },
        "outputId": "2d1e1622-3366-45eb-f384-6a62180cc6cc"
      },
      "cell_type": "code",
      "source": [
        "learner.fit(3e-3, 3, wds=1e-6, cycle_len=1, cycle_mult=2)"
      ],
      "execution_count": 55,
      "outputs": [
        {
          "output_type": "display_data",
          "data": {
            "application/vnd.jupyter.widget-view+json": {
              "model_id": "58a5d07d623b49e5b0d1465765ccaba1",
              "version_minor": 0,
              "version_major": 2
            },
            "text/plain": [
              "HBox(children=(IntProgress(value=0, description='Epoch', max=7), HTML(value='')))"
            ]
          },
          "metadata": {
            "tags": []
          }
        },
        {
          "output_type": "stream",
          "text": [
            "epoch      trn_loss   val_loss   \n",
            "    0      4.837221   4.738758  \n",
            "    1      4.660362   4.521287  \n",
            "    2      4.488184   4.440642  \n",
            "    3      4.467755   4.360261  \n",
            "    4      4.309736   4.267489  \n",
            "    5      4.194652   4.219086  \n",
            "    6      4.134557   4.211936  \n",
            "\n"
          ],
          "name": "stdout"
        },
        {
          "output_type": "execute_result",
          "data": {
            "text/plain": [
              "[array([4.21194])]"
            ]
          },
          "metadata": {
            "tags": []
          },
          "execution_count": 55
        }
      ]
    },
    {
      "metadata": {
        "id": "badJTCpZm5Mv",
        "colab_type": "code",
        "colab": {}
      },
      "cell_type": "code",
      "source": [
        "learner.save_encoder('adam2_enc')"
      ],
      "execution_count": 0,
      "outputs": []
    },
    {
      "metadata": {
        "id": "kjq6aeTHm5Mz",
        "colab_type": "code",
        "colab": {},
        "outputId": "2331b36b-ae13-4320-e640-aa51ee343a7d"
      },
      "cell_type": "code",
      "source": [
        "learner.fit(3e-3, 10, wds=1e-6, cycle_len=5, cycle_save_name='adam3_10')"
      ],
      "execution_count": 0,
      "outputs": [
        {
          "output_type": "display_data",
          "data": {
            "application/vnd.jupyter.widget-view+json": {
              "model_id": "21b13ef5eb7f4ba6bddb0059f5ec85d0",
              "version_major": 2,
              "version_minor": 0
            },
            "text/plain": [
              "A Jupyter Widget"
            ]
          },
          "metadata": {
            "tags": []
          }
        },
        {
          "output_type": "stream",
          "text": [
            "[ 0.       3.89388  3.76575]                                  \n",
            "[ 1.       3.82548  3.71875]                                  \n",
            "[ 2.       3.76471  3.66974]                                  \n",
            "[ 3.       3.71713  3.63861]                                  \n",
            "[ 4.       3.67534  3.62983]                                  \n",
            "[ 5.       3.83938  3.71551]                                  \n",
            "[ 6.       3.78093  3.68056]                                  \n",
            "[ 7.       3.72828  3.63638]                                  \n",
            "[ 8.       3.66743  3.60355]                                  \n",
            "[ 9.       3.65793  3.59448]                                  \n",
            "[ 10.        3.80545   3.68213]                               \n",
            "[ 11.        3.75299   3.65219]                               \n",
            "[ 12.        3.7057    3.61324]                               \n",
            "[ 13.        3.63348   3.58048]                               \n",
            "[ 14.        3.62304   3.57257]                               \n",
            "[ 15.        3.78656   3.66324]                               \n",
            "[ 16.        3.73522   3.63348]                               \n",
            "[ 17.        3.67258   3.59369]                               \n",
            "[ 18.        3.6242    3.56674]                               \n",
            "[ 19.        3.61123   3.55783]                               \n",
            "[ 20.        3.77443   3.65472]                               \n",
            "[ 21.        3.7374    3.62169]                               \n",
            "[ 22.        3.68367   3.58247]                               \n",
            "[ 23.        3.61606   3.55567]                               \n",
            "[ 24.        3.58527   3.54725]                               \n",
            "[ 25.        3.75456   3.63861]                               \n",
            "[ 26.        3.72061   3.61084]                               \n",
            "[ 27.        3.65141   3.57073]                               \n",
            "[ 28.        3.59711   3.54414]                               \n",
            "[ 29.        3.57052   3.53622]                               \n",
            "[ 30.        3.75229   3.62935]                               \n",
            "[ 31.        3.70693   3.60198]                               \n",
            "[ 32.        3.65193   3.56444]                               \n",
            "[ 33.        3.59173   3.53742]                               \n",
            "[ 34.        3.58699   3.53152]                               \n",
            "[ 35.        3.74211   3.62154]                               \n",
            "[ 36.        3.70016   3.59831]                               \n",
            "[ 37.        3.64095   3.55689]                               \n",
            "[ 38.        3.60686   3.53296]                               \n",
            "[ 39.       3.5627   3.523 ]                                  \n",
            "[ 40.        3.72944   3.61956]                               \n",
            "[ 41.        3.68161   3.58779]                               \n",
            "[ 42.        3.62305   3.55187]                               \n",
            "[ 43.        3.58559   3.52524]                               \n",
            "[ 44.        3.56087   3.51682]                               \n",
            "[ 45.        3.72533   3.61458]                               \n",
            "[ 46.        3.68025   3.58452]                               \n",
            "[ 47.        3.64447   3.55002]                               \n",
            "[ 48.        3.575     3.52066]                               \n",
            "[ 49.        3.54424   3.5133 ]                               \n",
            "\n"
          ],
          "name": "stdout"
        }
      ]
    },
    {
      "metadata": {
        "id": "IhTrgLJim5M3",
        "colab_type": "code",
        "colab": {}
      },
      "cell_type": "code",
      "source": [
        "learner.save_encoder('adam3_10_enc')"
      ],
      "execution_count": 0,
      "outputs": []
    },
    {
      "metadata": {
        "id": "uAP8WOR6m5M7",
        "colab_type": "code",
        "colab": {},
        "outputId": "a452d994-a4ec-4e8b-9a44-a17bcb8b0e91"
      },
      "cell_type": "code",
      "source": [
        "learner.fit(3e-3, 8, wds=1e-6, cycle_len=10, cycle_save_name='adam3_5')"
      ],
      "execution_count": 0,
      "outputs": [
        {
          "output_type": "display_data",
          "data": {
            "application/vnd.jupyter.widget-view+json": {
              "model_id": "9df7476b9cc14a5892bc72f30f34e856",
              "version_major": 2,
              "version_minor": 0
            },
            "text/plain": [
              "A Jupyter Widget"
            ]
          },
          "metadata": {
            "tags": []
          }
        },
        {
          "output_type": "stream",
          "text": [
            "[ 0.       3.70587  3.61666]                                  \n",
            "[ 1.       3.71738  3.61174]                                  \n",
            "[ 2.       3.68606  3.59661]                                  \n",
            "[ 3.       3.65407  3.5742 ]                                  \n",
            "[ 4.       3.62901  3.55795]                                  \n",
            "[ 5.       3.59921  3.53632]                                  \n",
            "[ 6.       3.58401  3.52149]                                  \n",
            "[ 7.       3.55126  3.50797]                                  \n",
            "[ 8.       3.52965  3.50178]                                  \n",
            "[ 9.       3.52336  3.49997]                                  \n",
            "[ 10.        3.7109    3.60817]                               \n",
            "[ 11.        3.69879   3.60047]                               \n",
            "[ 12.        3.6735    3.58623]                               \n",
            "[ 13.        3.64365   3.56568]                               \n",
            "[ 14.        3.6099    3.54776]                               \n",
            "[ 15.        3.58244   3.52829]                               \n",
            "[ 16.        3.54894   3.51071]                               \n",
            "[ 17.        3.52702   3.50173]                               \n",
            "[ 18.        3.51357   3.49522]                               \n",
            "[ 19.        3.50302   3.49272]                               \n",
            "[ 20.        3.72505   3.60198]                               \n",
            "[ 21.        3.70037   3.59914]                               \n",
            "[ 22.        3.68386   3.58279]                               \n",
            "[ 23.        3.64176   3.56435]                               \n",
            "[ 24.        3.60259   3.54304]                               \n",
            "[ 25.        3.58669   3.52432]                               \n",
            "[ 26.        3.54075   3.50703]                               \n",
            "[ 27.        3.50951   3.49534]                               \n",
            "[ 28.        3.51915   3.4896 ]                               \n",
            "[ 29.        3.48695   3.48968]                               \n",
            "[ 30.        3.70563   3.59631]                               \n",
            "[ 31.        3.68822   3.58723]                               \n",
            "[ 32.        3.67549   3.58141]                               \n",
            "[ 33.        3.63267   3.55537]                               \n",
            "[ 34.        3.60638   3.5386 ]                               \n",
            "[ 35.        3.58803   3.52154]                               \n",
            "[ 36.        3.53987   3.50394]                               \n",
            "[ 37.        3.51036   3.49244]                               \n",
            "[ 38.        3.48651   3.48652]                               \n",
            "[ 39.        3.49061   3.48673]                               \n",
            "[ 40.        3.70093   3.59211]                               \n",
            "[ 41.        3.67371   3.58516]                               \n",
            "[ 42.        3.66558   3.57032]                               \n",
            "[ 43.        3.65089   3.55939]                               \n",
            "[ 44.        3.59885   3.53445]                               \n",
            "[ 45.        3.56369   3.51585]                               \n",
            "[ 46.        3.55304   3.50237]                               \n",
            "[ 47.        3.50469   3.48919]                               \n",
            "[ 48.        3.49559   3.48289]                               \n",
            "[ 49.        3.50912   3.48136]                               \n",
            "[ 50.        3.70603   3.59182]                               \n",
            "[ 51.        3.669     3.58069]                               \n",
            "[ 52.        3.64965   3.56896]                               \n",
            "[ 53.        3.62839   3.55251]                               \n",
            "[ 54.        3.59578   3.53297]                               \n",
            "[ 55.        3.55814   3.51205]                               \n",
            "[ 56.        3.53653   3.49682]                               \n",
            "[ 57.        3.50043   3.48502]                               \n",
            "[ 58.        3.49535   3.4797 ]                               \n",
            "[ 59.        3.48039   3.47882]                               \n",
            "[ 60.        3.68319   3.58874]                               \n",
            "[ 61.        3.68893   3.58173]                               \n",
            "[ 62.        3.6516    3.56403]                               \n",
            "[ 63.        3.63432   3.55047]                               \n",
            "[ 64.        3.59697   3.52815]                               \n",
            "[ 65.        3.55784   3.50832]                               \n",
            "[ 66.        3.52815   3.49319]                               \n",
            "[ 67.        3.50618   3.48222]                               \n",
            "[ 68.        3.48319   3.47645]                               \n",
            "[ 69.        3.49879   3.47596]                               \n",
            "[ 70.        3.68466   3.58318]                               \n",
            "[ 71.        3.67045   3.57351]                               \n",
            "[ 72.        3.64409   3.5606 ]                               \n",
            "[ 73.        3.61991   3.54552]                               \n",
            "[ 74.        3.60503   3.52782]                               \n",
            "[ 75.        3.56681   3.50743]                               \n",
            "[ 76.        3.52401   3.49046]                               \n",
            "[ 77.        3.50519   3.47875]                               \n",
            "[ 78.        3.49343   3.47452]                               \n",
            "[ 79.        3.49275   3.47175]                               \n",
            "\n"
          ],
          "name": "stdout"
        }
      ]
    },
    {
      "metadata": {
        "id": "cfbWK_Tzm5ND",
        "colab_type": "code",
        "colab": {},
        "outputId": "9846ac08-c315-4508-af90-5767ef8d7078"
      },
      "cell_type": "code",
      "source": [
        "learner.fit(3e-3, 1, wds=1e-6, cycle_len=20, cycle_save_name='adam3_20')"
      ],
      "execution_count": 0,
      "outputs": [
        {
          "output_type": "display_data",
          "data": {
            "application/vnd.jupyter.widget-view+json": {
              "model_id": "717717efd1e441029d5618ed0be24416",
              "version_major": 2,
              "version_minor": 0
            },
            "text/plain": [
              "A Jupyter Widget"
            ]
          },
          "metadata": {
            "tags": []
          }
        },
        {
          "output_type": "stream",
          "text": [
            "[ 0.       3.47841  3.4751 ]                                  \n",
            "[ 1.       3.69717  3.57883]                                  \n",
            "[ 2.       3.68267  3.57793]                                  \n",
            "[ 3.       3.66797  3.57299]                                  \n",
            "[ 4.       3.66805  3.56847]                                  \n",
            "[ 5.       3.63489  3.56238]                                  \n",
            "[ 6.       3.62479  3.54928]                                  \n",
            "[ 7.       3.60663  3.53879]                                  \n",
            "[ 8.       3.59124  3.53175]                                  \n",
            "[ 9.       3.58617  3.52009]                                  \n",
            "[ 10.        3.56924   3.51174]                               \n",
            "[ 11.        3.5509    3.49974]                               \n",
            "[ 12.        3.51595   3.49008]                               \n",
            "[ 13.        3.50939   3.48222]                               \n",
            "[ 14.        3.48886   3.47952]                               \n",
            "[ 15.        3.4676    3.47311]                               \n",
            "[ 16.        3.4856    3.46577]                               \n",
            "[ 17.        3.44909   3.46499]                               \n",
            "[ 18.        3.46791   3.46314]                               \n",
            "[ 19.        3.44028   3.46231]                               \n",
            "\n"
          ],
          "name": "stdout"
        }
      ]
    },
    {
      "metadata": {
        "id": "W3eFhUSXm5NJ",
        "colab_type": "code",
        "colab": {}
      },
      "cell_type": "code",
      "source": [
        "learner.save_encoder('adam3_20_enc')"
      ],
      "execution_count": 0,
      "outputs": []
    },
    {
      "metadata": {
        "id": "5jZbxB0gm5NO",
        "colab_type": "code",
        "colab": {}
      },
      "cell_type": "code",
      "source": [
        "learner.save('adam3_20')"
      ],
      "execution_count": 0,
      "outputs": []
    },
    {
      "metadata": {
        "id": "mNRFpK5oIOw8",
        "colab_type": "text"
      },
      "cell_type": "markdown",
      "source": [
        "#(TO load the pretrained weights)"
      ]
    },
    {
      "metadata": {
        "id": "KGzflz1w8bEL",
        "colab_type": "code",
        "colab": {}
      },
      "cell_type": "code",
      "source": [
        "learner = md.get_model(opt_fn, em_sz, nh, nl,\n",
        "               dropouti=0.05, dropout=0.05, wdrop=0.1, dropoute=0.02, dropouth=0.05)\n",
        "learner.reg_fn = partial(seq2seq_reg, alpha=2, beta=1)\n",
        "learner.clip=0.3\n"
      ],
      "execution_count": 0,
      "outputs": []
    },
    {
      "metadata": {
        "id": "Fr1Cc5zC81Fy",
        "colab_type": "code",
        "colab": {
          "base_uri": "https://localhost:8080/",
          "height": 588
        },
        "outputId": "664fa783-5be3-45fe-d307-8c662231f9f6"
      },
      "cell_type": "code",
      "source": [
        "learner"
      ],
      "execution_count": 52,
      "outputs": [
        {
          "output_type": "execute_result",
          "data": {
            "text/plain": [
              "SequentialRNN(\n",
              "  (0): RNN_Encoder(\n",
              "    (encoder): Embedding(7420, 200, padding_idx=1)\n",
              "    (encoder_with_dropout): EmbeddingDropout(\n",
              "      (embed): Embedding(7420, 200, padding_idx=1)\n",
              "    )\n",
              "    (rnns): ModuleList(\n",
              "      (0): WeightDrop(\n",
              "        (module): LSTM(200, 500)\n",
              "      )\n",
              "      (1): WeightDrop(\n",
              "        (module): LSTM(500, 500)\n",
              "      )\n",
              "      (2): WeightDrop(\n",
              "        (module): LSTM(500, 200)\n",
              "      )\n",
              "    )\n",
              "    (dropouti): LockedDropout(\n",
              "    )\n",
              "    (dropouths): ModuleList(\n",
              "      (0): LockedDropout(\n",
              "      )\n",
              "      (1): LockedDropout(\n",
              "      )\n",
              "      (2): LockedDropout(\n",
              "      )\n",
              "    )\n",
              "  )\n",
              "  (1): LinearDecoder(\n",
              "    (decoder): Linear(in_features=200, out_features=7420, bias=False)\n",
              "    (dropout): LockedDropout(\n",
              "    )\n",
              "  )\n",
              ")"
            ]
          },
          "metadata": {
            "tags": []
          },
          "execution_count": 52
        }
      ]
    },
    {
      "metadata": {
        "id": "SjmtVrDm-IPZ",
        "colab_type": "code",
        "colab": {
          "resources": {
            "http://localhost:8080/nbextensions/google.colab/files.js": {
              "data": "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",
              "ok": true,
              "headers": [
                [
                  "content-type",
                  "application/javascript"
                ]
              ],
              "status": 200,
              "status_text": ""
            }
          },
          "base_uri": "https://localhost:8080/",
          "height": 73
        },
        "outputId": "51240921-15b3-4a72-8aa4-c5944cd82241"
      },
      "cell_type": "code",
      "source": [
        "from google.colab import files\n",
        "uploaded = files.upload()"
      ],
      "execution_count": 38,
      "outputs": [
        {
          "output_type": "display_data",
          "data": {
            "text/html": [
              "\n",
              "     <input type=\"file\" id=\"files-813ecd97-09ee-4f91-94f9-3c74c8084507\" name=\"files[]\" multiple disabled />\n",
              "     <output id=\"result-813ecd97-09ee-4f91-94f9-3c74c8084507\">\n",
              "      Upload widget is only available when the cell has been executed in the\n",
              "      current browser session. Please rerun this cell to enable.\n",
              "      </output>\n",
              "      <script src=\"/nbextensions/google.colab/files.js\"></script> "
            ],
            "text/plain": [
              "<IPython.core.display.HTML object>"
            ]
          },
          "metadata": {
            "tags": []
          }
        },
        {
          "output_type": "stream",
          "text": [
            "Saving imdb_adam3_c1_cl10_cyc_0.h5 to imdb_adam3_c1_cl10_cyc_0.h5\n",
            "Saving imdb2x_cyc_4.h5 to imdb2x_cyc_4.h5\n"
          ],
          "name": "stdout"
        }
      ]
    },
    {
      "metadata": {
        "id": "ky35CBKICrH4",
        "colab_type": "code",
        "colab": {
          "base_uri": "https://localhost:8080/",
          "height": 50
        },
        "outputId": "f9370c8e-955b-44fe-88f4-c1274577d1fe"
      },
      "cell_type": "code",
      "source": [
        "!cd data/arxiv && mkdir all\n",
        "!cd data/arxiv/all && mkdir models\n",
        "! mv imdb_adam3_c1_cl10_cyc_0.h5 data/arxiv/all/models"
      ],
      "execution_count": 40,
      "outputs": [
        {
          "output_type": "stream",
          "text": [
            "mkdir: cannot create directory ‘all’: File exists\n",
            "mkdir: cannot create directory ‘models’: File exists\n"
          ],
          "name": "stdout"
        }
      ]
    },
    {
      "metadata": {
        "id": "WJoaPAJw85Mh",
        "colab_type": "code",
        "colab": {}
      },
      "cell_type": "code",
      "source": [
        "learner.load('imdb_adam3_c1_cl10_cyc_0')"
      ],
      "execution_count": 0,
      "outputs": []
    },
    {
      "metadata": {
        "id": "c8xPeVmOm5NT",
        "colab_type": "text"
      },
      "cell_type": "markdown",
      "source": [
        "### Test"
      ]
    },
    {
      "metadata": {
        "id": "gyreH-Unm5NV",
        "colab_type": "code",
        "colab": {}
      },
      "cell_type": "code",
      "source": [
        "def proc_str(s): return TEXT.preprocess(TEXT.tokenize(s))\n",
        "def num_str(s): return TEXT.numericalize([proc_str(s)])"
      ],
      "execution_count": 0,
      "outputs": []
    },
    {
      "metadata": {
        "id": "WBa5b-T7m5NZ",
        "colab_type": "code",
        "colab": {}
      },
      "cell_type": "code",
      "source": [
        "m=learner.model"
      ],
      "execution_count": 0,
      "outputs": []
    },
    {
      "metadata": {
        "id": "Fq6wuXPdm5Nf",
        "colab_type": "code",
        "colab": {}
      },
      "cell_type": "code",
      "source": [
        "s=\"\"\"<CAT> cscv <SUMM> algorithms that\"\"\""
      ],
      "execution_count": 0,
      "outputs": []
    },
    {
      "metadata": {
        "id": "tQUaG_k8m5Ni",
        "colab_type": "code",
        "colab": {}
      },
      "cell_type": "code",
      "source": [
        "def sample_model(m, s, l=50):\n",
        "    t = num_str(s)\n",
        "    m[0].bs=1\n",
        "    m.eval()\n",
        "    m.reset()\n",
        "    res,*_ = m(t)\n",
        "    print('...', end='')\n",
        "\n",
        "    for i in range(l):\n",
        "        n=res[-1].topk(2)[1]\n",
        "        n = n[1] if n.data[0]==0 else n[0]\n",
        "        word = TEXT.vocab.itos[n.data[0]]\n",
        "        print(word, end=' ')\n",
        "        if word=='<eos>': break\n",
        "        res,*_ = m(n[0].unsqueeze(0))\n",
        "\n",
        "    m[0].bs=bs"
      ],
      "execution_count": 0,
      "outputs": []
    },
    {
      "metadata": {
        "id": "_LPe_ue-m5Nl",
        "colab_type": "code",
        "colab": {},
        "outputId": "54b7b274-76d4-49aa-c4ce-e4b1f9fd4592"
      },
      "cell_type": "code",
      "source": [
        "sample_model(m,\"<CAT> csni <SUMM> algorithms that\")"
      ],
      "execution_count": 0,
      "outputs": [
        {
          "output_type": "stream",
          "text": [
            "...use the same network as a single node are not able to \n",
            " achieve the same performance as the traditional network - based routing \n",
            " algorithms . in this paper , we propose a novel routing scheme for routing \n",
            " protocols in wireless networks . the proposed scheme is based ..."
          ],
          "name": "stdout"
        }
      ]
    },
    {
      "metadata": {
        "id": "8QsmNH0Wm5Nr",
        "colab_type": "code",
        "colab": {},
        "outputId": "f6085e71-6e83-4cbb-c294-1b016f3c99a2"
      },
      "cell_type": "code",
      "source": [
        "sample_model(m,\"<CAT> cscv <SUMM> algorithms that\")"
      ],
      "execution_count": 0,
      "outputs": [
        {
          "output_type": "stream",
          "text": [
            "...use the same data to perform image classification are \n",
            " increasingly being used to improve the performance of image classification \n",
            " algorithms . in this paper , we propose a novel method for image classification \n",
            " using a deep convolutional neural network ( cnn ) . the proposed method is ..."
          ],
          "name": "stdout"
        }
      ]
    },
    {
      "metadata": {
        "id": "Iw_KSFlQm5Nu",
        "colab_type": "code",
        "colab": {},
        "outputId": "33b0c989-7785-41af-bae0-721302f57e55"
      },
      "cell_type": "code",
      "source": [
        "sample_model(m,\"<CAT> cscv <SUMM> algorithms. <TITLE> on \")"
      ],
      "execution_count": 0,
      "outputs": [
        {
          "output_type": "stream",
          "text": [
            "...the performance of deep learning for image classification <eos> "
          ],
          "name": "stdout"
        }
      ]
    },
    {
      "metadata": {
        "id": "nsesEEf8m5Ny",
        "colab_type": "code",
        "colab": {},
        "outputId": "605e81a7-6bf5-4819-9ed2-2aee6f44ff5b"
      },
      "cell_type": "code",
      "source": [
        "sample_model(m,\"<CAT> csni <SUMM> algorithms. <TITLE> on \")"
      ],
      "execution_count": 0,
      "outputs": [
        {
          "output_type": "stream",
          "text": [
            "...the performance of wireless networks <eos> "
          ],
          "name": "stdout"
        }
      ]
    },
    {
      "metadata": {
        "id": "vqlGdNNgm5N5",
        "colab_type": "code",
        "colab": {},
        "outputId": "e1804d3d-1b11-4844-9ada-7ee067e3cae8"
      },
      "cell_type": "code",
      "source": [
        "sample_model(m,\"<CAT> cscv <SUMM> algorithms. <TITLE> towards \")"
      ],
      "execution_count": 0,
      "outputs": [
        {
          "output_type": "stream",
          "text": [
            "...a new approach to image classification <eos> "
          ],
          "name": "stdout"
        }
      ]
    },
    {
      "metadata": {
        "id": "Np8vFub7m5N8",
        "colab_type": "code",
        "colab": {},
        "outputId": "a07c8e4b-9c49-455e-c9d6-e4e23ff4b9ec"
      },
      "cell_type": "code",
      "source": [
        "sample_model(m,\"<CAT> csni <SUMM> algorithms. <TITLE> towards \")"
      ],
      "execution_count": 0,
      "outputs": [
        {
          "output_type": "stream",
          "text": [
            "...a new approach to the analysis of wireless networks <eos> "
          ],
          "name": "stdout"
        }
      ]
    },
    {
      "metadata": {
        "id": "5N3NRMNWm5OG",
        "colab_type": "text"
      },
      "cell_type": "markdown",
      "source": [
        "### Sentiment"
      ]
    },
    {
      "metadata": {
        "id": "7olYHtx9m5OH",
        "colab_type": "code",
        "colab": {}
      },
      "cell_type": "code",
      "source": [
        "TEXT = pickle.load(open(f'{PATH}models/TEXT.pkl','rb'))"
      ],
      "execution_count": 0,
      "outputs": []
    },
    {
      "metadata": {
        "id": "b7N1WSGcm5OK",
        "colab_type": "code",
        "colab": {}
      },
      "cell_type": "code",
      "source": [
        "class ArxivDataset(torchtext.data.Dataset):\n",
        "    def __init__(self, path, text_field, label_field, **kwargs):\n",
        "        fields = [('text', text_field), ('label', label_field)]\n",
        "        examples = []\n",
        "        for label in ['yes', 'no']:\n",
        "            fnames = glob(os.path.join(path, label, '*.txt'));\n",
        "            assert fnames, f\"can't find 'yes.txt' or 'no.txt' under {path}/{label}\"\n",
        "            for fname in fnames:\n",
        "                with open(fname, 'r') as f: text = f.readline()\n",
        "                examples.append(data.Example.fromlist([text, label], fields))\n",
        "        super().__init__(examples, fields, **kwargs)\n",
        "\n",
        "    @staticmethod\n",
        "    def sort_key(ex): return len(ex.text)\n",
        "    \n",
        "    @classmethod\n",
        "    def splits(cls, text_field, label_field, root='.data',\n",
        "               train='train', test='test', **kwargs):\n",
        "        return super().splits(\n",
        "            root, text_field=text_field, label_field=label_field,\n",
        "            train=train, validation=None, test=test, **kwargs)"
      ],
      "execution_count": 0,
      "outputs": []
    },
    {
      "metadata": {
        "id": "FS5w67-Fm5OL",
        "colab_type": "code",
        "colab": {}
      },
      "cell_type": "code",
      "source": [
        "ARX_LABEL = data.Field(sequential=False)\n",
        "splits = ArxivDataset.splits(TEXT, ARX_LABEL, PATH, train='trn', test='val')"
      ],
      "execution_count": 0,
      "outputs": []
    },
    {
      "metadata": {
        "id": "AGZ2Jrv5m5OO",
        "colab_type": "code",
        "colab": {}
      },
      "cell_type": "code",
      "source": [
        "md2 = TextData.from_splits(PATH, splits, bs)"
      ],
      "execution_count": 0,
      "outputs": []
    },
    {
      "metadata": {
        "id": "OD2fejPfm5OR",
        "colab_type": "code",
        "colab": {}
      },
      "cell_type": "code",
      "source": [
        "#            dropout=0.3, dropouti=0.4, wdrop=0.3, dropoute=0.05, dropouth=0.2)"
      ],
      "execution_count": 0,
      "outputs": []
    },
    {
      "metadata": {
        "id": "fsEgeT30m5OT",
        "colab_type": "code",
        "colab": {}
      },
      "cell_type": "code",
      "source": [
        "from sklearn.metrics import precision_recall_curve\n",
        "import matplotlib.pyplot as plt\n",
        "\n",
        "def prec_at_6(preds,targs):\n",
        "    precision, recall, _ = precision_recall_curve(targs==2, preds[:,2])\n",
        "    print(recall[precision>=0.6][0])\n",
        "    return recall[precision>=0.6][0]"
      ],
      "execution_count": 0,
      "outputs": []
    },
    {
      "metadata": {
        "id": "SBuFsVdQm5OX",
        "colab_type": "code",
        "colab": {}
      },
      "cell_type": "code",
      "source": [
        "# dropout=0.4, dropouth=0.3, dropouti=0.65, dropoute=0.1, wdrop=0.5\n",
        "m3 = md2.get_model(opt_fn, 1500, bptt, emb_sz=em_sz, n_hid=nh, n_layers=nl, \n",
        "           dropout=0.1, dropouti=0.65, wdrop=0.5, dropoute=0.1, dropouth=0.3)\n",
        "m3.reg_fn = partial(seq2seq_reg, alpha=2, beta=1)\n",
        "m3.clip=25."
      ],
      "execution_count": 0,
      "outputs": []
    },
    {
      "metadata": {
        "id": "N7Ukw7eBm5Ob",
        "colab_type": "code",
        "colab": {}
      },
      "cell_type": "code",
      "source": [
        "# this notebook has a mess of some things going under 'all/' others not, so a little hack here\n",
        "!ln -sf ../all/models/adam3_20_enc.h5 {PATH}models/adam3_20_enc.h5\n",
        "m3.load_encoder(f'adam3_20_enc')\n",
        "lrs=np.array([1e-4,1e-3,1e-3,1e-2,3e-2])"
      ],
      "execution_count": 0,
      "outputs": []
    },
    {
      "metadata": {
        "id": "aQSZ9lbBm5Oe",
        "colab_type": "code",
        "colab": {},
        "outputId": "6edeff4b-d280-419b-e819-19ad12351e7a"
      },
      "cell_type": "code",
      "source": [
        "m3.freeze_to(-1)\n",
        "m3.fit(lrs/2, 1, metrics=[accuracy])\n",
        "m3.unfreeze()\n",
        "m3.fit(lrs, 1, metrics=[accuracy], cycle_len=1)"
      ],
      "execution_count": 0,
      "outputs": [
        {
          "output_type": "display_data",
          "data": {
            "application/vnd.jupyter.widget-view+json": {
              "model_id": "feeaf546b6ed445d91985561124afc37",
              "version_major": 2,
              "version_minor": 0
            },
            "text/plain": [
              "A Jupyter Widget"
            ]
          },
          "metadata": {
            "tags": []
          }
        },
        {
          "output_type": "stream",
          "text": [
            "[ 0.       0.47654  0.44322  0.78525]                         \n",
            "\n"
          ],
          "name": "stdout"
        },
        {
          "output_type": "display_data",
          "data": {
            "application/vnd.jupyter.widget-view+json": {
              "model_id": "23ab581c7a264367be284e88b28890b2",
              "version_major": 2,
              "version_minor": 0
            },
            "text/plain": [
              "A Jupyter Widget"
            ]
          },
          "metadata": {
            "tags": []
          }
        },
        {
          "output_type": "stream",
          "text": [
            "[ 0.       0.43033  0.40192  0.80087]                        \n",
            "\n"
          ],
          "name": "stdout"
        }
      ]
    },
    {
      "metadata": {
        "id": "7w3CEYXNm5Ol",
        "colab_type": "code",
        "colab": {},
        "outputId": "99953c96-af2f-476c-8c90-4984eb97fbc8"
      },
      "cell_type": "code",
      "source": [
        "m3.fit(lrs, 2, metrics=[accuracy], cycle_len=4, cycle_save_name='imdb2')"
      ],
      "execution_count": 0,
      "outputs": [
        {
          "output_type": "display_data",
          "data": {
            "application/vnd.jupyter.widget-view+json": {
              "model_id": "be7735a6a5354c279c4d6b8280bcda6e",
              "version_major": 2,
              "version_minor": 0
            },
            "text/plain": [
              "A Jupyter Widget"
            ]
          },
          "metadata": {
            "tags": []
          }
        },
        {
          "output_type": "stream",
          "text": [
            "[ 0.       0.42236  0.39006  0.8194 ]                        \n",
            "[ 1.       0.39477  0.37063  0.82086]                        \n",
            "[ 2.       0.39389  0.37082  0.82449]                        \n",
            "[ 3.       0.40728  0.36999  0.82195]                        \n",
            "[ 4.       0.39308  0.3675   0.81977]                        \n",
            "[ 5.       0.38662  0.36737  0.8234 ]                        \n",
            "[ 6.       0.39259  0.36512  0.82486]                        \n",
            "[ 7.       0.38047  0.36538  0.82522]                        \n",
            "\n"
          ],
          "name": "stdout"
        }
      ]
    },
    {
      "metadata": {
        "id": "9Ra-OMmTm5Op",
        "colab_type": "code",
        "colab": {},
        "outputId": "528d2e4e-8331-4d89-af23-07e22fae68a7"
      },
      "cell_type": "code",
      "source": [
        "prec_at_6(*m3.predict_with_targs())"
      ],
      "execution_count": 0,
      "outputs": [
        {
          "output_type": "stream",
          "text": [
            "0.659305993691\n"
          ],
          "name": "stdout"
        },
        {
          "output_type": "execute_result",
          "data": {
            "text/plain": [
              "0.65930599369085174"
            ]
          },
          "metadata": {
            "tags": []
          },
          "execution_count": 0
        }
      ]
    },
    {
      "metadata": {
        "id": "fxBgTbqWm5Or",
        "colab_type": "code",
        "colab": {},
        "outputId": "8b59e8f0-95b1-457a-eeba-5a7fa1c4a4be"
      },
      "cell_type": "code",
      "source": [
        "m3.fit(lrs, 4, metrics=[accuracy], cycle_len=2, cycle_save_name='imdb2')"
      ],
      "execution_count": 0,
      "outputs": [
        {
          "output_type": "display_data",
          "data": {
            "application/vnd.jupyter.widget-view+json": {
              "model_id": "57d2433c996b48a99f86329570a9885a",
              "version_major": 2,
              "version_minor": 0
            },
            "text/plain": [
              "A Jupyter Widget"
            ]
          },
          "metadata": {
            "tags": []
          }
        },
        {
          "output_type": "stream",
          "text": [
            "[ 0.       0.38752  0.36351  0.82486]                        \n",
            "[ 1.       0.38664  0.36123  0.82558]                        \n",
            "[ 2.       0.3904   0.36098  0.82486]                        \n",
            "[ 3.       0.37319  0.36144  0.82486]                        \n",
            "[ 4.       0.38074  0.36334  0.82595]                        \n",
            "[ 5.       0.36405  0.3594   0.82413]                        \n",
            "[ 6.       0.38781  0.35914  0.82522]                        \n",
            "[ 7.       0.37722  0.357    0.82631]                        \n",
            "\n"
          ],
          "name": "stdout"
        }
      ]
    },
    {
      "metadata": {
        "id": "R2r6OE99m5Ow",
        "colab_type": "code",
        "colab": {},
        "outputId": "ee1bc068-3769-48a6-d8da-fb2ed0a3beae"
      },
      "cell_type": "code",
      "source": [
        "prec_at_6(*m3.predict_with_targs())"
      ],
      "execution_count": 0,
      "outputs": [
        {
          "output_type": "stream",
          "text": [
            "0.695583596215\n"
          ],
          "name": "stdout"
        },
        {
          "output_type": "execute_result",
          "data": {
            "text/plain": [
              "0.69558359621451105"
            ]
          },
          "metadata": {
            "tags": []
          },
          "execution_count": 0
        }
      ]
    },
    {
      "metadata": {
        "id": "1mXNRQOim5O1",
        "colab_type": "code",
        "colab": {}
      },
      "cell_type": "code",
      "source": [
        ""
      ],
      "execution_count": 0,
      "outputs": []
    },
    {
      "metadata": {
        "id": "kwsBy-NiJCGI",
        "colab_type": "text"
      },
      "cell_type": "markdown",
      "source": [
        "#END"
      ]
    }
  ]
}