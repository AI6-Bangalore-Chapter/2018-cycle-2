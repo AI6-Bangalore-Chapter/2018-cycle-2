{
  "nbformat": 4,
  "nbformat_minor": 0,
  "metadata": {
    "colab": {
      "name": "Template_Notebook.ipynb",
      "version": "0.3.2",
      "provenance": []
    }
  },
  "cells": [
    {
      "metadata": {
        "id": "VVplSpatlCvl",
        "colab_type": "text"
      },
      "cell_type": "markdown",
      "source": [
        "# Template notebook for AI Saturdays Cycle 2, Bangalore Chapter!"
      ]
    },
    {
      "metadata": {
        "id": "pDHvRuAHoaui",
        "colab_type": "text"
      },
      "cell_type": "markdown",
      "source": [
        "Hey there!\n",
        "\n",
        "This is a jumpstart/template notebook you will be using through out the sessions. This notebook takes care of all those teeny-weeny stuff which gives a huge headache. So, we got that covered for you! \n",
        "\n",
        "So, whenever you are attempting an fast.ai assignment or a kaggle competition or anything else, just start from this notebook and you are good to go.\n",
        "\n",
        "A word of advice, it's better to make a copy of this and proceed with your work rather than working on this notebook itself. "
      ]
    },
    {
      "metadata": {
        "id": "LNchCs2LrCyb",
        "colab_type": "text"
      },
      "cell_type": "markdown",
      "source": [
        "You can always find the full tutorial on how to use Colab [here](https://colab.research.google.com/notebooks/welcome.ipynb).\n",
        "\n",
        "But here are a few things to keep in mind:\n",
        "\n",
        "1. Change runtime type to Python 3, and then change Hardware Accelerator to GPU (Toolbar > Runtime > Change Runtime)\n",
        "\n",
        "2. Do not change the browser window or tab while working. Colab assumes you are not using it and destroys your instance. \n",
        "\n",
        "3. Incase you're instance gets disconnected due to internet issues or anything else, do the following:\n",
        "    - First do CTRL + S  \n",
        "    - And then press RECONNECT on the top right corner. \n",
        "        \n",
        "  If you are quick enough, chances are you're instacne is not yet destroyed. \n",
        "  \n",
        "4. While you are running you're model, keep saving the weights to your google drive as shown in the below code blocks. This way, if you lose your instance due to unfortunate circumstances, you can resume from where you left."
      ]
    },
    {
      "metadata": {
        "id": "iWbf-5qvfIY-",
        "colab_type": "text"
      },
      "cell_type": "markdown",
      "source": [
        "## Linking Google drive to Google colab\n",
        "You need to run this script any time you connect to a new runtime or open the notebook.\n",
        "\n",
        "---"
      ]
    },
    {
      "metadata": {
        "id": "TzHvzYsfZ9YM",
        "colab_type": "code",
        "colab": {}
      },
      "cell_type": "code",
      "source": [
        "#Install required libraries\n",
        "!apt-get install -y -qq software-properties-common python-software-properties module-init-tools\n",
        "!add-apt-repository -y ppa:alessandro-strada/ppa 2>&1 > /dev/null\n",
        "!apt-get update -qq 2>&1 > /dev/null\n",
        "!apt-get -y install -qq google-drive-ocamlfuse fuse\n",
        "\n",
        "# Generate auth tokens for Colab\n",
        "from google.colab import auth\n",
        "auth.authenticate_user()"
      ],
      "execution_count": 0,
      "outputs": []
    },
    {
      "metadata": {
        "id": "r8NO1DnqL8ZW",
        "colab_type": "code",
        "colab": {}
      },
      "cell_type": "code",
      "source": [
        "# Generate creds for the Drive FUSE library. Though the link asks you to verify twice. Once is enough!\n",
        "from oauth2client.client import GoogleCredentials\n",
        "creds = GoogleCredentials.get_application_default()\n",
        "import getpass\n",
        "!google-drive-ocamlfuse -headless -id={creds.client_id} -secret={creds.client_secret} < /dev/null 2>&1 | grep URL\n",
        "vcode = getpass.getpass()\n",
        "!echo {vcode} | google-drive-ocamlfuse -headless -id={creds.client_id} -secret={creds.client_secret}"
      ],
      "execution_count": 0,
      "outputs": []
    },
    {
      "metadata": {
        "id": "KTRy3vPxL-NC",
        "colab_type": "code",
        "colab": {}
      },
      "cell_type": "code",
      "source": [
        "# Create a directory named 'drive'\n",
        "!mkdir -p drive\n",
        "\n",
        "#Mount/attach your Google Drive to the created directory.\n",
        "!google-drive-ocamlfuse drive\n",
        "\n",
        "#To check if it's working, lets list out the contents in your drive. \n",
        "#NOTE: Only you can see the contents of your drive. Nothing to worry about. \n",
        "\n",
        "print 'Files in Drive:'\n",
        "!ls drive/\n",
        "\n",
        "# If you could see our files, that means linking Google Drive to Google Colab has been successful!"
      ],
      "execution_count": 0,
      "outputs": []
    },
    {
      "metadata": {
        "id": "IBROUS4shxQr",
        "colab_type": "text"
      },
      "cell_type": "markdown",
      "source": [
        "## Installing Libraries\n",
        "Each cells is for 1 particular library."
      ]
    },
    {
      "metadata": {
        "id": "D61365tDrvyF",
        "colab_type": "text"
      },
      "cell_type": "markdown",
      "source": [
        "### Pytorch"
      ]
    },
    {
      "metadata": {
        "id": "zXIS0v6jhu7_",
        "colab_type": "code",
        "colab": {
          "base_uri": "https://localhost:8080/",
          "height": 35
        },
        "outputId": "0bb2f394-f653-4963-84be-f5d958b3e884"
      },
      "cell_type": "code",
      "source": [
        "# You need to run this script any time you connect to a new runtime or open the notebook\n",
        "# http://pytorch.org/\n",
        "from os import path\n",
        "from wheel.pep425tags import get_abbr_impl, get_impl_ver, get_abi_tag\n",
        "platform = '{}{}-{}'.format(get_abbr_impl(), get_impl_ver(), get_abi_tag())\n",
        "\n",
        "accelerator = 'cu80' if path.exists('/opt/bin/nvidia-smi') else 'cpu'\n",
        "\n",
        "!pip install -q http://download.pytorch.org/whl/{accelerator}/torch-0.3.0.post4-{platform}-linux_x86_64.whl torchvision\n",
        "import torch\n",
        "\n",
        "#Check if pyorch has been successfully installed by printing out it's version\n",
        "print(torch.__version__)"
      ],
      "execution_count": 8,
      "outputs": [
        {
          "output_type": "stream",
          "text": [
            "0.3.0.post4\n"
          ],
          "name": "stdout"
        }
      ]
    },
    {
      "metadata": {
        "id": "-Mk1s6Y9r09J",
        "colab_type": "text"
      },
      "cell_type": "markdown",
      "source": [
        "### Fast.ai Library"
      ]
    },
    {
      "metadata": {
        "id": "MDLF_sa_rzTn",
        "colab_type": "code",
        "colab": {}
      },
      "cell_type": "code",
      "source": [
        "# You need to run this script any time you connect to a new runtime or open the notebook\n",
        "from os import path\n",
        "from wheel.pep425tags import get_abbr_impl, get_impl_ver, get_abi_tag\n",
        "\n",
        "platform = '{}{}-{}'.format(get_abbr_impl(), get_impl_ver(), get_abi_tag())\n",
        "accelerator = 'cu80' if path.exists('/opt/bin/nvidia-smi') else 'cpu'\n",
        "\n",
        "!pip install pathlib\n",
        "!pip install -q http://download.pytorch.org/whl/{accelerator}/torch-0.3.0.post4-{platform}-linux_x86_64.whl torchvision\n",
        "!pip install fastai\n",
        "!apt-get -qq install -y libsm6 libxext6 && pip install -q -U opencv-python\n",
        "!pip install Pillow==4.0.0\n",
        "!pip install image\n",
        "\n",
        "%matplotlib inline\n",
        "import torch\n",
        "import cv2\n",
        "from fastai.imports import *"
      ],
      "execution_count": 0,
      "outputs": []
    },
    {
      "metadata": {
        "id": "o5KpUVF4gPKx",
        "colab_type": "text"
      },
      "cell_type": "markdown",
      "source": [
        "## Start your code here"
      ]
    },
    {
      "metadata": {
        "id": "yLcJot5PggXS",
        "colab_type": "code",
        "colab": {}
      },
      "cell_type": "code",
      "source": [
        ""
      ],
      "execution_count": 0,
      "outputs": []
    }
  ]
}